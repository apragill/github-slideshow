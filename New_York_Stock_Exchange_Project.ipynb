{
  "nbformat": 4,
  "nbformat_minor": 0,
  "metadata": {
    "colab": {
      "name": "New York Stock Exchange Final Project.ipynb",
      "provenance": [],
      "collapsed_sections": [],
      "include_colab_link": true
    },
    "kernelspec": {
      "name": "python3",
      "display_name": "Python 3"
    }
  },
  "cells": [
    {
      "cell_type": "markdown",
      "metadata": {
        "id": "view-in-github",
        "colab_type": "text"
      },
      "source": [
        "<a href=\"https://colab.research.google.com/github/apragill/github-slideshow/blob/master/New_York_Stock_Exchange_Project.ipynb\" target=\"_parent\"><img src=\"https://colab.research.google.com/assets/colab-badge.svg\" alt=\"Open In Colab\"/></a>"
      ]
    },
    {
      "cell_type": "markdown",
      "metadata": {
        "id": "ygZnOWHH7wAI"
      },
      "source": [
        "Predicting the stock market values."
      ]
    },
    {
      "cell_type": "code",
      "metadata": {
        "id": "c38QvLPf4jur"
      },
      "source": [
        "import pandas as pd\n",
        "import numpy as np\n",
        "import seaborn as sns\n",
        "import matplotlib.pyplot as plt\n",
        "\n",
        "import statsmodels.api as sm\n",
        "\n",
        "from sklearn.model_selection import train_test_split\n",
        "from sklearn.neighbors import KNeighborsClassifier\n",
        "from sklearn import metrics\n",
        "\n",
        "from sklearn.linear_model import LinearRegression\n",
        "from sklearn import preprocessing\n",
        "from sklearn import linear_model\n",
        "from sklearn.linear_model import LogisticRegression\n",
        "from sklearn.metrics import classification_report, confusion_matrix\n",
        "from sklearn.model_selection import cross_validate\n",
        "\n",
        "\n",
        "from datetime import datetime as dt\n",
        "\n",
        "from sklearn.cluster import KMeans"
      ],
      "execution_count": null,
      "outputs": []
    },
    {
      "cell_type": "code",
      "metadata": {
        "id": "RFzjXiHj4uxb"
      },
      "source": [
        "prices_url = \"https://github.com/cschatz/data150/blob/master/prices-split-adjusted.csv.zip?raw=true\"\n",
        "df1 = pd.read_csv(prices_url, compression=\"zip\")\n",
        "\n",
        "fundamentals_url = \"https://github.com/cschatz/data150/blob/master/fundamentals.csv.zip?raw=true\"\n",
        "df2 = pd.read_csv(fundamentals_url, compression=\"zip\").drop(\"Unnamed: 0\", axis=1)\n",
        "\n",
        "securities_url = \"https://raw.githubusercontent.com/cschatz/data150/master/securities.csv\"\n",
        "df3 = pd.read_csv(securities_url)\n",
        "\n",
        "prices = df1.merge(df3, left_on=\"symbol\", right_on=\"Ticker symbol\", \n",
        "                suffixes=(False, False), validate=\"m:1\").drop(\"Ticker symbol\", axis=1)\n",
        "\n",
        "fundamentals = df2.merge(df3, left_on=\"Ticker Symbol\", right_on=\"Ticker symbol\", \n",
        "                suffixes=(False, False), validate=\"m:1\").drop(\"Ticker symbol\", axis=1).rename({\"Ticker Symbol\": \"symbol\"})"
      ],
      "execution_count": null,
      "outputs": []
    },
    {
      "cell_type": "code",
      "metadata": {
        "id": "QY3Xwsr-Ek34",
        "colab": {
          "base_uri": "https://localhost:8080/",
          "height": 635
        },
        "outputId": "ed98cb1c-ffca-4d38-ab35-34c2c3e9f3ec"
      },
      "source": [
        "fundamentals.head(8)"
      ],
      "execution_count": null,
      "outputs": [
        {
          "output_type": "execute_result",
          "data": {
            "text/html": [
              "<div>\n",
              "<style scoped>\n",
              "    .dataframe tbody tr th:only-of-type {\n",
              "        vertical-align: middle;\n",
              "    }\n",
              "\n",
              "    .dataframe tbody tr th {\n",
              "        vertical-align: top;\n",
              "    }\n",
              "\n",
              "    .dataframe thead th {\n",
              "        text-align: right;\n",
              "    }\n",
              "</style>\n",
              "<table border=\"1\" class=\"dataframe\">\n",
              "  <thead>\n",
              "    <tr style=\"text-align: right;\">\n",
              "      <th></th>\n",
              "      <th>Ticker Symbol</th>\n",
              "      <th>Period Ending</th>\n",
              "      <th>Accounts Payable</th>\n",
              "      <th>Accounts Receivable</th>\n",
              "      <th>Add'l income/expense items</th>\n",
              "      <th>After Tax ROE</th>\n",
              "      <th>Capital Expenditures</th>\n",
              "      <th>Capital Surplus</th>\n",
              "      <th>Cash Ratio</th>\n",
              "      <th>Cash and Cash Equivalents</th>\n",
              "      <th>Changes in Inventories</th>\n",
              "      <th>Common Stocks</th>\n",
              "      <th>Cost of Revenue</th>\n",
              "      <th>Current Ratio</th>\n",
              "      <th>Deferred Asset Charges</th>\n",
              "      <th>Deferred Liability Charges</th>\n",
              "      <th>Depreciation</th>\n",
              "      <th>Earnings Before Interest and Tax</th>\n",
              "      <th>Earnings Before Tax</th>\n",
              "      <th>Effect of Exchange Rate</th>\n",
              "      <th>Equity Earnings/Loss Unconsolidated Subsidiary</th>\n",
              "      <th>Fixed Assets</th>\n",
              "      <th>Goodwill</th>\n",
              "      <th>Gross Margin</th>\n",
              "      <th>Gross Profit</th>\n",
              "      <th>Income Tax</th>\n",
              "      <th>Intangible Assets</th>\n",
              "      <th>Interest Expense</th>\n",
              "      <th>Inventory</th>\n",
              "      <th>Investments</th>\n",
              "      <th>Liabilities</th>\n",
              "      <th>Long-Term Debt</th>\n",
              "      <th>Long-Term Investments</th>\n",
              "      <th>Minority Interest</th>\n",
              "      <th>Misc. Stocks</th>\n",
              "      <th>Net Borrowings</th>\n",
              "      <th>Net Cash Flow</th>\n",
              "      <th>Net Cash Flow-Operating</th>\n",
              "      <th>Net Cash Flows-Financing</th>\n",
              "      <th>Net Cash Flows-Investing</th>\n",
              "      <th>...</th>\n",
              "      <th>Non-Recurring Items</th>\n",
              "      <th>Operating Income</th>\n",
              "      <th>Operating Margin</th>\n",
              "      <th>Other Assets</th>\n",
              "      <th>Other Current Assets</th>\n",
              "      <th>Other Current Liabilities</th>\n",
              "      <th>Other Equity</th>\n",
              "      <th>Other Financing Activities</th>\n",
              "      <th>Other Investing Activities</th>\n",
              "      <th>Other Liabilities</th>\n",
              "      <th>Other Operating Activities</th>\n",
              "      <th>Other Operating Items</th>\n",
              "      <th>Pre-Tax Margin</th>\n",
              "      <th>Pre-Tax ROE</th>\n",
              "      <th>Profit Margin</th>\n",
              "      <th>Quick Ratio</th>\n",
              "      <th>Research and Development</th>\n",
              "      <th>Retained Earnings</th>\n",
              "      <th>Sale and Purchase of Stock</th>\n",
              "      <th>Sales, General and Admin.</th>\n",
              "      <th>Short-Term Debt / Current Portion of Long-Term Debt</th>\n",
              "      <th>Short-Term Investments</th>\n",
              "      <th>Total Assets</th>\n",
              "      <th>Total Current Assets</th>\n",
              "      <th>Total Current Liabilities</th>\n",
              "      <th>Total Equity</th>\n",
              "      <th>Total Liabilities</th>\n",
              "      <th>Total Liabilities &amp; Equity</th>\n",
              "      <th>Total Revenue</th>\n",
              "      <th>Treasury Stock</th>\n",
              "      <th>For Year</th>\n",
              "      <th>Earnings Per Share</th>\n",
              "      <th>Estimated Shares Outstanding</th>\n",
              "      <th>Security</th>\n",
              "      <th>SEC filings</th>\n",
              "      <th>GICS Sector</th>\n",
              "      <th>GICS Sub Industry</th>\n",
              "      <th>Address of Headquarters</th>\n",
              "      <th>Date first added</th>\n",
              "      <th>CIK</th>\n",
              "    </tr>\n",
              "  </thead>\n",
              "  <tbody>\n",
              "    <tr>\n",
              "      <th>0</th>\n",
              "      <td>AAL</td>\n",
              "      <td>2012-12-31</td>\n",
              "      <td>3.068000e+09</td>\n",
              "      <td>-222000000.0</td>\n",
              "      <td>-1.961000e+09</td>\n",
              "      <td>23.0</td>\n",
              "      <td>-1.888000e+09</td>\n",
              "      <td>4.695000e+09</td>\n",
              "      <td>53.0</td>\n",
              "      <td>1.330000e+09</td>\n",
              "      <td>0.0</td>\n",
              "      <td>127000000.0</td>\n",
              "      <td>1.049900e+10</td>\n",
              "      <td>78.0</td>\n",
              "      <td>0.000000e+00</td>\n",
              "      <td>223000000.0</td>\n",
              "      <td>1.001000e+09</td>\n",
              "      <td>-1.813000e+09</td>\n",
              "      <td>-2.445000e+09</td>\n",
              "      <td>0.0</td>\n",
              "      <td>0.0</td>\n",
              "      <td>1.340200e+10</td>\n",
              "      <td>0.000000e+00</td>\n",
              "      <td>58.0</td>\n",
              "      <td>1.435600e+10</td>\n",
              "      <td>-5.690000e+08</td>\n",
              "      <td>8.690000e+08</td>\n",
              "      <td>632000000.0</td>\n",
              "      <td>5.800000e+08</td>\n",
              "      <td>3.060000e+08</td>\n",
              "      <td>4.730000e+08</td>\n",
              "      <td>7.116000e+09</td>\n",
              "      <td>0.0</td>\n",
              "      <td>0.0</td>\n",
              "      <td>0.0</td>\n",
              "      <td>-1.020000e+09</td>\n",
              "      <td>1.970000e+08</td>\n",
              "      <td>1.285000e+09</td>\n",
              "      <td>4.830000e+08</td>\n",
              "      <td>-1.571000e+09</td>\n",
              "      <td>...</td>\n",
              "      <td>3.860000e+08</td>\n",
              "      <td>1.480000e+08</td>\n",
              "      <td>1.0</td>\n",
              "      <td>2.167000e+09</td>\n",
              "      <td>6.260000e+08</td>\n",
              "      <td>4.524000e+09</td>\n",
              "      <td>-2.980000e+09</td>\n",
              "      <td>1.509000e+09</td>\n",
              "      <td>1.100000e+07</td>\n",
              "      <td>1.514700e+10</td>\n",
              "      <td>-141000000.0</td>\n",
              "      <td>8.450000e+08</td>\n",
              "      <td>10.0</td>\n",
              "      <td>31.0</td>\n",
              "      <td>8.0</td>\n",
              "      <td>72.0</td>\n",
              "      <td>0.0</td>\n",
              "      <td>-9.462000e+09</td>\n",
              "      <td>0.000000e+00</td>\n",
              "      <td>1.297700e+10</td>\n",
              "      <td>1.419000e+09</td>\n",
              "      <td>3.412000e+09</td>\n",
              "      <td>2.351000e+10</td>\n",
              "      <td>7.072000e+09</td>\n",
              "      <td>9.011000e+09</td>\n",
              "      <td>-7.987000e+09</td>\n",
              "      <td>2.489100e+10</td>\n",
              "      <td>1.690400e+10</td>\n",
              "      <td>2.485500e+10</td>\n",
              "      <td>-367000000.0</td>\n",
              "      <td>2012.0</td>\n",
              "      <td>-5.60</td>\n",
              "      <td>3.350000e+08</td>\n",
              "      <td>American Airlines Group</td>\n",
              "      <td>reports</td>\n",
              "      <td>Industrials</td>\n",
              "      <td>Airlines</td>\n",
              "      <td>Fort Worth, Texas</td>\n",
              "      <td>2015-03-23</td>\n",
              "      <td>6201</td>\n",
              "    </tr>\n",
              "    <tr>\n",
              "      <th>1</th>\n",
              "      <td>AAL</td>\n",
              "      <td>2013-12-31</td>\n",
              "      <td>4.975000e+09</td>\n",
              "      <td>-93000000.0</td>\n",
              "      <td>-2.723000e+09</td>\n",
              "      <td>67.0</td>\n",
              "      <td>-3.114000e+09</td>\n",
              "      <td>1.059200e+10</td>\n",
              "      <td>75.0</td>\n",
              "      <td>2.175000e+09</td>\n",
              "      <td>0.0</td>\n",
              "      <td>5000000.0</td>\n",
              "      <td>1.101900e+10</td>\n",
              "      <td>104.0</td>\n",
              "      <td>0.000000e+00</td>\n",
              "      <td>935000000.0</td>\n",
              "      <td>1.020000e+09</td>\n",
              "      <td>-1.324000e+09</td>\n",
              "      <td>-2.180000e+09</td>\n",
              "      <td>0.0</td>\n",
              "      <td>0.0</td>\n",
              "      <td>1.925900e+10</td>\n",
              "      <td>4.086000e+09</td>\n",
              "      <td>59.0</td>\n",
              "      <td>1.572400e+10</td>\n",
              "      <td>-3.460000e+08</td>\n",
              "      <td>2.311000e+09</td>\n",
              "      <td>856000000.0</td>\n",
              "      <td>1.012000e+09</td>\n",
              "      <td>-1.181000e+09</td>\n",
              "      <td>-2.350000e+08</td>\n",
              "      <td>1.535300e+10</td>\n",
              "      <td>0.0</td>\n",
              "      <td>0.0</td>\n",
              "      <td>0.0</td>\n",
              "      <td>2.208000e+09</td>\n",
              "      <td>6.600000e+08</td>\n",
              "      <td>6.750000e+08</td>\n",
              "      <td>3.799000e+09</td>\n",
              "      <td>-3.814000e+09</td>\n",
              "      <td>...</td>\n",
              "      <td>5.590000e+08</td>\n",
              "      <td>1.399000e+09</td>\n",
              "      <td>5.0</td>\n",
              "      <td>2.299000e+09</td>\n",
              "      <td>1.465000e+09</td>\n",
              "      <td>7.385000e+09</td>\n",
              "      <td>-2.032000e+09</td>\n",
              "      <td>1.711000e+09</td>\n",
              "      <td>4.810000e+08</td>\n",
              "      <td>1.491500e+10</td>\n",
              "      <td>-56000000.0</td>\n",
              "      <td>8.530000e+08</td>\n",
              "      <td>8.0</td>\n",
              "      <td>80.0</td>\n",
              "      <td>7.0</td>\n",
              "      <td>96.0</td>\n",
              "      <td>0.0</td>\n",
              "      <td>-1.129600e+10</td>\n",
              "      <td>0.000000e+00</td>\n",
              "      <td>1.291300e+10</td>\n",
              "      <td>1.446000e+09</td>\n",
              "      <td>8.111000e+09</td>\n",
              "      <td>4.227800e+10</td>\n",
              "      <td>1.432300e+10</td>\n",
              "      <td>1.380600e+10</td>\n",
              "      <td>-2.731000e+09</td>\n",
              "      <td>4.500900e+10</td>\n",
              "      <td>4.227800e+10</td>\n",
              "      <td>2.674300e+10</td>\n",
              "      <td>0.0</td>\n",
              "      <td>2013.0</td>\n",
              "      <td>-11.25</td>\n",
              "      <td>1.630222e+08</td>\n",
              "      <td>American Airlines Group</td>\n",
              "      <td>reports</td>\n",
              "      <td>Industrials</td>\n",
              "      <td>Airlines</td>\n",
              "      <td>Fort Worth, Texas</td>\n",
              "      <td>2015-03-23</td>\n",
              "      <td>6201</td>\n",
              "    </tr>\n",
              "    <tr>\n",
              "      <th>2</th>\n",
              "      <td>AAL</td>\n",
              "      <td>2014-12-31</td>\n",
              "      <td>4.668000e+09</td>\n",
              "      <td>-160000000.0</td>\n",
              "      <td>-1.500000e+08</td>\n",
              "      <td>143.0</td>\n",
              "      <td>-5.311000e+09</td>\n",
              "      <td>1.513500e+10</td>\n",
              "      <td>60.0</td>\n",
              "      <td>1.768000e+09</td>\n",
              "      <td>0.0</td>\n",
              "      <td>7000000.0</td>\n",
              "      <td>1.562000e+10</td>\n",
              "      <td>88.0</td>\n",
              "      <td>0.000000e+00</td>\n",
              "      <td>829000000.0</td>\n",
              "      <td>1.342000e+09</td>\n",
              "      <td>4.099000e+09</td>\n",
              "      <td>3.212000e+09</td>\n",
              "      <td>0.0</td>\n",
              "      <td>0.0</td>\n",
              "      <td>2.308400e+10</td>\n",
              "      <td>4.091000e+09</td>\n",
              "      <td>63.0</td>\n",
              "      <td>2.703000e+10</td>\n",
              "      <td>3.300000e+08</td>\n",
              "      <td>2.240000e+09</td>\n",
              "      <td>887000000.0</td>\n",
              "      <td>1.004000e+09</td>\n",
              "      <td>1.799000e+09</td>\n",
              "      <td>-1.026000e+09</td>\n",
              "      <td>1.604300e+10</td>\n",
              "      <td>0.0</td>\n",
              "      <td>0.0</td>\n",
              "      <td>0.0</td>\n",
              "      <td>1.700000e+08</td>\n",
              "      <td>-1.460000e+08</td>\n",
              "      <td>3.080000e+09</td>\n",
              "      <td>-3.150000e+08</td>\n",
              "      <td>-2.911000e+09</td>\n",
              "      <td>...</td>\n",
              "      <td>8.000000e+08</td>\n",
              "      <td>4.249000e+09</td>\n",
              "      <td>10.0</td>\n",
              "      <td>2.060000e+09</td>\n",
              "      <td>8.980000e+08</td>\n",
              "      <td>7.059000e+09</td>\n",
              "      <td>-4.559000e+09</td>\n",
              "      <td>8.170000e+08</td>\n",
              "      <td>6.010000e+08</td>\n",
              "      <td>1.092800e+10</td>\n",
              "      <td>-500000000.0</td>\n",
              "      <td>1.295000e+09</td>\n",
              "      <td>8.0</td>\n",
              "      <td>159.0</td>\n",
              "      <td>7.0</td>\n",
              "      <td>80.0</td>\n",
              "      <td>0.0</td>\n",
              "      <td>-8.562000e+09</td>\n",
              "      <td>-1.052000e+09</td>\n",
              "      <td>2.068600e+10</td>\n",
              "      <td>1.677000e+09</td>\n",
              "      <td>6.309000e+09</td>\n",
              "      <td>4.322500e+10</td>\n",
              "      <td>1.175000e+10</td>\n",
              "      <td>1.340400e+10</td>\n",
              "      <td>2.021000e+09</td>\n",
              "      <td>4.120400e+10</td>\n",
              "      <td>4.322500e+10</td>\n",
              "      <td>4.265000e+10</td>\n",
              "      <td>0.0</td>\n",
              "      <td>2014.0</td>\n",
              "      <td>4.02</td>\n",
              "      <td>7.169154e+08</td>\n",
              "      <td>American Airlines Group</td>\n",
              "      <td>reports</td>\n",
              "      <td>Industrials</td>\n",
              "      <td>Airlines</td>\n",
              "      <td>Fort Worth, Texas</td>\n",
              "      <td>2015-03-23</td>\n",
              "      <td>6201</td>\n",
              "    </tr>\n",
              "    <tr>\n",
              "      <th>3</th>\n",
              "      <td>AAL</td>\n",
              "      <td>2015-12-31</td>\n",
              "      <td>5.102000e+09</td>\n",
              "      <td>352000000.0</td>\n",
              "      <td>-7.080000e+08</td>\n",
              "      <td>135.0</td>\n",
              "      <td>-6.151000e+09</td>\n",
              "      <td>1.159100e+10</td>\n",
              "      <td>51.0</td>\n",
              "      <td>1.085000e+09</td>\n",
              "      <td>0.0</td>\n",
              "      <td>6000000.0</td>\n",
              "      <td>1.109600e+10</td>\n",
              "      <td>73.0</td>\n",
              "      <td>2.477000e+09</td>\n",
              "      <td>667000000.0</td>\n",
              "      <td>1.487000e+09</td>\n",
              "      <td>5.496000e+09</td>\n",
              "      <td>4.616000e+09</td>\n",
              "      <td>0.0</td>\n",
              "      <td>0.0</td>\n",
              "      <td>2.751000e+10</td>\n",
              "      <td>4.091000e+09</td>\n",
              "      <td>73.0</td>\n",
              "      <td>2.989400e+10</td>\n",
              "      <td>-2.994000e+09</td>\n",
              "      <td>2.249000e+09</td>\n",
              "      <td>880000000.0</td>\n",
              "      <td>8.630000e+08</td>\n",
              "      <td>4.430000e+08</td>\n",
              "      <td>-6.330000e+08</td>\n",
              "      <td>1.833000e+10</td>\n",
              "      <td>0.0</td>\n",
              "      <td>0.0</td>\n",
              "      <td>0.0</td>\n",
              "      <td>2.856000e+09</td>\n",
              "      <td>-6.040000e+08</td>\n",
              "      <td>6.249000e+09</td>\n",
              "      <td>-1.259000e+09</td>\n",
              "      <td>-5.594000e+09</td>\n",
              "      <td>...</td>\n",
              "      <td>1.051000e+09</td>\n",
              "      <td>6.204000e+09</td>\n",
              "      <td>15.0</td>\n",
              "      <td>2.103000e+09</td>\n",
              "      <td>7.480000e+08</td>\n",
              "      <td>6.272000e+09</td>\n",
              "      <td>-4.732000e+09</td>\n",
              "      <td>9.600000e+07</td>\n",
              "      <td>1.140000e+08</td>\n",
              "      <td>1.017800e+10</td>\n",
              "      <td>95000000.0</td>\n",
              "      <td>1.364000e+09</td>\n",
              "      <td>11.0</td>\n",
              "      <td>82.0</td>\n",
              "      <td>19.0</td>\n",
              "      <td>67.0</td>\n",
              "      <td>0.0</td>\n",
              "      <td>-1.230000e+09</td>\n",
              "      <td>-3.846000e+09</td>\n",
              "      <td>2.127500e+10</td>\n",
              "      <td>2.231000e+09</td>\n",
              "      <td>5.864000e+09</td>\n",
              "      <td>4.841500e+10</td>\n",
              "      <td>9.985000e+09</td>\n",
              "      <td>1.360500e+10</td>\n",
              "      <td>5.635000e+09</td>\n",
              "      <td>4.278000e+10</td>\n",
              "      <td>4.841500e+10</td>\n",
              "      <td>4.099000e+10</td>\n",
              "      <td>0.0</td>\n",
              "      <td>2015.0</td>\n",
              "      <td>11.39</td>\n",
              "      <td>6.681299e+08</td>\n",
              "      <td>American Airlines Group</td>\n",
              "      <td>reports</td>\n",
              "      <td>Industrials</td>\n",
              "      <td>Airlines</td>\n",
              "      <td>Fort Worth, Texas</td>\n",
              "      <td>2015-03-23</td>\n",
              "      <td>6201</td>\n",
              "    </tr>\n",
              "    <tr>\n",
              "      <th>4</th>\n",
              "      <td>AAP</td>\n",
              "      <td>2012-12-29</td>\n",
              "      <td>2.409453e+09</td>\n",
              "      <td>-89482000.0</td>\n",
              "      <td>6.000000e+05</td>\n",
              "      <td>32.0</td>\n",
              "      <td>-2.711820e+08</td>\n",
              "      <td>5.202150e+08</td>\n",
              "      <td>23.0</td>\n",
              "      <td>5.981110e+08</td>\n",
              "      <td>-260298000.0</td>\n",
              "      <td>7000.0</td>\n",
              "      <td>3.106967e+09</td>\n",
              "      <td>124.0</td>\n",
              "      <td>0.000000e+00</td>\n",
              "      <td>0.0</td>\n",
              "      <td>1.895440e+08</td>\n",
              "      <td>6.579150e+08</td>\n",
              "      <td>6.240740e+08</td>\n",
              "      <td>0.0</td>\n",
              "      <td>0.0</td>\n",
              "      <td>1.292547e+09</td>\n",
              "      <td>7.638900e+07</td>\n",
              "      <td>50.0</td>\n",
              "      <td>3.098036e+09</td>\n",
              "      <td>2.364040e+08</td>\n",
              "      <td>2.884500e+07</td>\n",
              "      <td>33841000.0</td>\n",
              "      <td>2.308609e+09</td>\n",
              "      <td>0.000000e+00</td>\n",
              "      <td>4.263230e+08</td>\n",
              "      <td>6.044610e+08</td>\n",
              "      <td>0.0</td>\n",
              "      <td>0.0</td>\n",
              "      <td>0.0</td>\n",
              "      <td>1.774450e+08</td>\n",
              "      <td>5.402100e+08</td>\n",
              "      <td>6.852810e+08</td>\n",
              "      <td>1.279070e+08</td>\n",
              "      <td>-2.729780e+08</td>\n",
              "      <td>...</td>\n",
              "      <td>0.000000e+00</td>\n",
              "      <td>6.573150e+08</td>\n",
              "      <td>11.0</td>\n",
              "      <td>3.183300e+07</td>\n",
              "      <td>4.761400e+07</td>\n",
              "      <td>1.495580e+08</td>\n",
              "      <td>2.667000e+06</td>\n",
              "      <td>-3.349900e+07</td>\n",
              "      <td>-1.796000e+06</td>\n",
              "      <td>2.390210e+08</td>\n",
              "      <td>8213000.0</td>\n",
              "      <td>0.000000e+00</td>\n",
              "      <td>10.0</td>\n",
              "      <td>52.0</td>\n",
              "      <td>6.0</td>\n",
              "      <td>34.0</td>\n",
              "      <td>0.0</td>\n",
              "      <td>7.149000e+08</td>\n",
              "      <td>-1.860000e+07</td>\n",
              "      <td>2.440721e+09</td>\n",
              "      <td>6.270000e+05</td>\n",
              "      <td>0.000000e+00</td>\n",
              "      <td>4.613814e+09</td>\n",
              "      <td>3.184200e+09</td>\n",
              "      <td>2.559638e+09</td>\n",
              "      <td>1.210694e+09</td>\n",
              "      <td>3.403120e+09</td>\n",
              "      <td>4.613814e+09</td>\n",
              "      <td>6.205003e+09</td>\n",
              "      <td>-27095000.0</td>\n",
              "      <td>2012.0</td>\n",
              "      <td>5.29</td>\n",
              "      <td>7.328355e+07</td>\n",
              "      <td>Advance Auto Parts</td>\n",
              "      <td>reports</td>\n",
              "      <td>Consumer Discretionary</td>\n",
              "      <td>Automotive Retail</td>\n",
              "      <td>Roanoke, Virginia</td>\n",
              "      <td>2015-07-09</td>\n",
              "      <td>1158449</td>\n",
              "    </tr>\n",
              "    <tr>\n",
              "      <th>5</th>\n",
              "      <td>AAP</td>\n",
              "      <td>2013-12-28</td>\n",
              "      <td>2.609239e+09</td>\n",
              "      <td>-32428000.0</td>\n",
              "      <td>2.698000e+06</td>\n",
              "      <td>26.0</td>\n",
              "      <td>-1.957570e+08</td>\n",
              "      <td>5.312930e+08</td>\n",
              "      <td>40.0</td>\n",
              "      <td>1.112471e+09</td>\n",
              "      <td>-203513000.0</td>\n",
              "      <td>7000.0</td>\n",
              "      <td>3.241668e+09</td>\n",
              "      <td>144.0</td>\n",
              "      <td>0.000000e+00</td>\n",
              "      <td>0.0</td>\n",
              "      <td>2.077950e+08</td>\n",
              "      <td>6.630160e+08</td>\n",
              "      <td>6.263980e+08</td>\n",
              "      <td>0.0</td>\n",
              "      <td>0.0</td>\n",
              "      <td>1.286034e+09</td>\n",
              "      <td>1.998350e+08</td>\n",
              "      <td>50.0</td>\n",
              "      <td>3.252146e+09</td>\n",
              "      <td>2.346400e+08</td>\n",
              "      <td>4.987200e+07</td>\n",
              "      <td>36618000.0</td>\n",
              "      <td>2.556557e+09</td>\n",
              "      <td>0.000000e+00</td>\n",
              "      <td>1.727150e+08</td>\n",
              "      <td>1.052668e+09</td>\n",
              "      <td>0.0</td>\n",
              "      <td>0.0</td>\n",
              "      <td>0.0</td>\n",
              "      <td>4.456790e+08</td>\n",
              "      <td>5.143600e+08</td>\n",
              "      <td>5.452500e+08</td>\n",
              "      <td>3.312170e+08</td>\n",
              "      <td>-3.621070e+08</td>\n",
              "      <td>...</td>\n",
              "      <td>0.000000e+00</td>\n",
              "      <td>6.603180e+08</td>\n",
              "      <td>10.0</td>\n",
              "      <td>3.964900e+07</td>\n",
              "      <td>4.276100e+07</td>\n",
              "      <td>1.546300e+08</td>\n",
              "      <td>3.683000e+06</td>\n",
              "      <td>-2.720900e+07</td>\n",
              "      <td>-1.663500e+08</td>\n",
              "      <td>2.311160e+08</td>\n",
              "      <td>11011000.0</td>\n",
              "      <td>0.000000e+00</td>\n",
              "      <td>10.0</td>\n",
              "      <td>41.0</td>\n",
              "      <td>6.0</td>\n",
              "      <td>52.0</td>\n",
              "      <td>0.0</td>\n",
              "      <td>1.089112e+09</td>\n",
              "      <td>-7.718400e+07</td>\n",
              "      <td>2.591828e+09</td>\n",
              "      <td>9.160000e+05</td>\n",
              "      <td>0.000000e+00</td>\n",
              "      <td>5.564774e+09</td>\n",
              "      <td>3.989384e+09</td>\n",
              "      <td>2.764785e+09</td>\n",
              "      <td>1.516205e+09</td>\n",
              "      <td>4.048569e+09</td>\n",
              "      <td>5.564774e+09</td>\n",
              "      <td>6.493814e+09</td>\n",
              "      <td>-107890000.0</td>\n",
              "      <td>2013.0</td>\n",
              "      <td>5.36</td>\n",
              "      <td>7.308918e+07</td>\n",
              "      <td>Advance Auto Parts</td>\n",
              "      <td>reports</td>\n",
              "      <td>Consumer Discretionary</td>\n",
              "      <td>Automotive Retail</td>\n",
              "      <td>Roanoke, Virginia</td>\n",
              "      <td>2015-07-09</td>\n",
              "      <td>1158449</td>\n",
              "    </tr>\n",
              "    <tr>\n",
              "      <th>6</th>\n",
              "      <td>AAP</td>\n",
              "      <td>2015-01-03</td>\n",
              "      <td>3.616038e+09</td>\n",
              "      <td>-48209000.0</td>\n",
              "      <td>3.092000e+06</td>\n",
              "      <td>25.0</td>\n",
              "      <td>-2.284460e+08</td>\n",
              "      <td>5.629450e+08</td>\n",
              "      <td>3.0</td>\n",
              "      <td>1.046710e+08</td>\n",
              "      <td>-227657000.0</td>\n",
              "      <td>7000.0</td>\n",
              "      <td>5.390248e+09</td>\n",
              "      <td>130.0</td>\n",
              "      <td>0.000000e+00</td>\n",
              "      <td>446351000.0</td>\n",
              "      <td>2.846930e+08</td>\n",
              "      <td>8.548020e+08</td>\n",
              "      <td>7.813940e+08</td>\n",
              "      <td>-4465000.0</td>\n",
              "      <td>0.0</td>\n",
              "      <td>1.432030e+09</td>\n",
              "      <td>9.954260e+08</td>\n",
              "      <td>45.0</td>\n",
              "      <td>4.453613e+09</td>\n",
              "      <td>2.875690e+08</td>\n",
              "      <td>7.481250e+08</td>\n",
              "      <td>73408000.0</td>\n",
              "      <td>3.936955e+09</td>\n",
              "      <td>0.000000e+00</td>\n",
              "      <td>1.942230e+08</td>\n",
              "      <td>1.636311e+09</td>\n",
              "      <td>0.0</td>\n",
              "      <td>0.0</td>\n",
              "      <td>0.0</td>\n",
              "      <td>5.996190e+08</td>\n",
              "      <td>-1.007800e+09</td>\n",
              "      <td>7.089910e+08</td>\n",
              "      <td>5.759110e+08</td>\n",
              "      <td>-2.288237e+09</td>\n",
              "      <td>...</td>\n",
              "      <td>0.000000e+00</td>\n",
              "      <td>8.517100e+08</td>\n",
              "      <td>9.0</td>\n",
              "      <td>4.573700e+07</td>\n",
              "      <td>1.195890e+08</td>\n",
              "      <td>3.779600e+07</td>\n",
              "      <td>-1.233700e+07</td>\n",
              "      <td>-1.803900e+07</td>\n",
              "      <td>-2.059791e+09</td>\n",
              "      <td>2.223680e+08</td>\n",
              "      <td>-63482000.0</td>\n",
              "      <td>0.000000e+00</td>\n",
              "      <td>8.0</td>\n",
              "      <td>39.0</td>\n",
              "      <td>5.0</td>\n",
              "      <td>22.0</td>\n",
              "      <td>0.0</td>\n",
              "      <td>1.565341e+09</td>\n",
              "      <td>1.424000e+06</td>\n",
              "      <td>3.601903e+09</td>\n",
              "      <td>5.820000e+05</td>\n",
              "      <td>0.000000e+00</td>\n",
              "      <td>7.962358e+09</td>\n",
              "      <td>4.741040e+09</td>\n",
              "      <td>3.654416e+09</td>\n",
              "      <td>2.002912e+09</td>\n",
              "      <td>5.959446e+09</td>\n",
              "      <td>7.962358e+09</td>\n",
              "      <td>9.843861e+09</td>\n",
              "      <td>-113044000.0</td>\n",
              "      <td>2014.0</td>\n",
              "      <td>6.75</td>\n",
              "      <td>7.315926e+07</td>\n",
              "      <td>Advance Auto Parts</td>\n",
              "      <td>reports</td>\n",
              "      <td>Consumer Discretionary</td>\n",
              "      <td>Automotive Retail</td>\n",
              "      <td>Roanoke, Virginia</td>\n",
              "      <td>2015-07-09</td>\n",
              "      <td>1158449</td>\n",
              "    </tr>\n",
              "    <tr>\n",
              "      <th>7</th>\n",
              "      <td>AAP</td>\n",
              "      <td>2016-01-02</td>\n",
              "      <td>3.757085e+09</td>\n",
              "      <td>-21476000.0</td>\n",
              "      <td>-7.484000e+06</td>\n",
              "      <td>19.0</td>\n",
              "      <td>-2.347470e+08</td>\n",
              "      <td>6.033320e+08</td>\n",
              "      <td>2.0</td>\n",
              "      <td>9.078200e+07</td>\n",
              "      <td>-244096000.0</td>\n",
              "      <td>7000.0</td>\n",
              "      <td>5.314246e+09</td>\n",
              "      <td>130.0</td>\n",
              "      <td>0.000000e+00</td>\n",
              "      <td>433925000.0</td>\n",
              "      <td>2.694760e+08</td>\n",
              "      <td>8.182960e+08</td>\n",
              "      <td>7.528880e+08</td>\n",
              "      <td>-4213000.0</td>\n",
              "      <td>0.0</td>\n",
              "      <td>1.434577e+09</td>\n",
              "      <td>9.894840e+08</td>\n",
              "      <td>45.0</td>\n",
              "      <td>4.422772e+09</td>\n",
              "      <td>2.794900e+08</td>\n",
              "      <td>6.871250e+08</td>\n",
              "      <td>65408000.0</td>\n",
              "      <td>4.174768e+09</td>\n",
              "      <td>0.000000e+00</td>\n",
              "      <td>1.746670e+08</td>\n",
              "      <td>1.213161e+09</td>\n",
              "      <td>0.0</td>\n",
              "      <td>0.0</td>\n",
              "      <td>0.0</td>\n",
              "      <td>-4.263220e+08</td>\n",
              "      <td>-1.388900e+07</td>\n",
              "      <td>6.896420e+08</td>\n",
              "      <td>-4.459520e+08</td>\n",
              "      <td>-2.533660e+08</td>\n",
              "      <td>...</td>\n",
              "      <td>0.000000e+00</td>\n",
              "      <td>8.257800e+08</td>\n",
              "      <td>8.0</td>\n",
              "      <td>8.263300e+07</td>\n",
              "      <td>7.740800e+07</td>\n",
              "      <td>3.979400e+07</td>\n",
              "      <td>-4.405900e+07</td>\n",
              "      <td>-1.349200e+07</td>\n",
              "      <td>-1.861900e+07</td>\n",
              "      <td>2.293540e+08</td>\n",
              "      <td>7423000.0</td>\n",
              "      <td>0.000000e+00</td>\n",
              "      <td>8.0</td>\n",
              "      <td>31.0</td>\n",
              "      <td>5.0</td>\n",
              "      <td>20.0</td>\n",
              "      <td>0.0</td>\n",
              "      <td>2.021077e+09</td>\n",
              "      <td>-1.491000e+06</td>\n",
              "      <td>3.596992e+09</td>\n",
              "      <td>5.980000e+05</td>\n",
              "      <td>0.000000e+00</td>\n",
              "      <td>8.134565e+09</td>\n",
              "      <td>4.940746e+09</td>\n",
              "      <td>3.797477e+09</td>\n",
              "      <td>2.460648e+09</td>\n",
              "      <td>5.673917e+09</td>\n",
              "      <td>8.134565e+09</td>\n",
              "      <td>9.737018e+09</td>\n",
              "      <td>-119709000.0</td>\n",
              "      <td>2015.0</td>\n",
              "      <td>6.45</td>\n",
              "      <td>7.339504e+07</td>\n",
              "      <td>Advance Auto Parts</td>\n",
              "      <td>reports</td>\n",
              "      <td>Consumer Discretionary</td>\n",
              "      <td>Automotive Retail</td>\n",
              "      <td>Roanoke, Virginia</td>\n",
              "      <td>2015-07-09</td>\n",
              "      <td>1158449</td>\n",
              "    </tr>\n",
              "  </tbody>\n",
              "</table>\n",
              "<p>8 rows × 85 columns</p>\n",
              "</div>"
            ],
            "text/plain": [
              "  Ticker Symbol Period Ending  ...  Date first added      CIK\n",
              "0           AAL    2012-12-31  ...        2015-03-23     6201\n",
              "1           AAL    2013-12-31  ...        2015-03-23     6201\n",
              "2           AAL    2014-12-31  ...        2015-03-23     6201\n",
              "3           AAL    2015-12-31  ...        2015-03-23     6201\n",
              "4           AAP    2012-12-29  ...        2015-07-09  1158449\n",
              "5           AAP    2013-12-28  ...        2015-07-09  1158449\n",
              "6           AAP    2015-01-03  ...        2015-07-09  1158449\n",
              "7           AAP    2016-01-02  ...        2015-07-09  1158449\n",
              "\n",
              "[8 rows x 85 columns]"
            ]
          },
          "metadata": {
            "tags": []
          },
          "execution_count": 3
        }
      ]
    },
    {
      "cell_type": "code",
      "metadata": {
        "id": "IvglpjVPFNiQ",
        "colab": {
          "base_uri": "https://localhost:8080/",
          "height": 1000
        },
        "outputId": "91a8b9f1-3098-4913-aeb2-205c0bd5260c"
      },
      "source": [
        "fundamentals.info()"
      ],
      "execution_count": null,
      "outputs": [
        {
          "output_type": "stream",
          "text": [
            "<class 'pandas.core.frame.DataFrame'>\n",
            "Int64Index: 1781 entries, 0 to 1780\n",
            "Data columns (total 85 columns):\n",
            " #   Column                                               Non-Null Count  Dtype  \n",
            "---  ------                                               --------------  -----  \n",
            " 0   Ticker Symbol                                        1781 non-null   object \n",
            " 1   Period Ending                                        1781 non-null   object \n",
            " 2   Accounts Payable                                     1781 non-null   float64\n",
            " 3   Accounts Receivable                                  1781 non-null   float64\n",
            " 4   Add'l income/expense items                           1781 non-null   float64\n",
            " 5   After Tax ROE                                        1781 non-null   float64\n",
            " 6   Capital Expenditures                                 1781 non-null   float64\n",
            " 7   Capital Surplus                                      1781 non-null   float64\n",
            " 8   Cash Ratio                                           1482 non-null   float64\n",
            " 9   Cash and Cash Equivalents                            1781 non-null   float64\n",
            " 10  Changes in Inventories                               1781 non-null   float64\n",
            " 11  Common Stocks                                        1781 non-null   float64\n",
            " 12  Cost of Revenue                                      1781 non-null   float64\n",
            " 13  Current Ratio                                        1482 non-null   float64\n",
            " 14  Deferred Asset Charges                               1781 non-null   float64\n",
            " 15  Deferred Liability Charges                           1781 non-null   float64\n",
            " 16  Depreciation                                         1781 non-null   float64\n",
            " 17  Earnings Before Interest and Tax                     1781 non-null   float64\n",
            " 18  Earnings Before Tax                                  1781 non-null   float64\n",
            " 19  Effect of Exchange Rate                              1781 non-null   float64\n",
            " 20  Equity Earnings/Loss Unconsolidated Subsidiary       1781 non-null   float64\n",
            " 21  Fixed Assets                                         1781 non-null   float64\n",
            " 22  Goodwill                                             1781 non-null   float64\n",
            " 23  Gross Margin                                         1781 non-null   float64\n",
            " 24  Gross Profit                                         1781 non-null   float64\n",
            " 25  Income Tax                                           1781 non-null   float64\n",
            " 26  Intangible Assets                                    1781 non-null   float64\n",
            " 27  Interest Expense                                     1781 non-null   float64\n",
            " 28  Inventory                                            1781 non-null   float64\n",
            " 29  Investments                                          1781 non-null   float64\n",
            " 30  Liabilities                                          1781 non-null   float64\n",
            " 31  Long-Term Debt                                       1781 non-null   float64\n",
            " 32  Long-Term Investments                                1781 non-null   float64\n",
            " 33  Minority Interest                                    1781 non-null   float64\n",
            " 34  Misc. Stocks                                         1781 non-null   float64\n",
            " 35  Net Borrowings                                       1781 non-null   float64\n",
            " 36  Net Cash Flow                                        1781 non-null   float64\n",
            " 37  Net Cash Flow-Operating                              1781 non-null   float64\n",
            " 38  Net Cash Flows-Financing                             1781 non-null   float64\n",
            " 39  Net Cash Flows-Investing                             1781 non-null   float64\n",
            " 40  Net Income                                           1781 non-null   float64\n",
            " 41  Net Income Adjustments                               1781 non-null   float64\n",
            " 42  Net Income Applicable to Common Shareholders         1781 non-null   float64\n",
            " 43  Net Income-Cont. Operations                          1781 non-null   float64\n",
            " 44  Net Receivables                                      1781 non-null   float64\n",
            " 45  Non-Recurring Items                                  1781 non-null   float64\n",
            " 46  Operating Income                                     1781 non-null   float64\n",
            " 47  Operating Margin                                     1781 non-null   float64\n",
            " 48  Other Assets                                         1781 non-null   float64\n",
            " 49  Other Current Assets                                 1781 non-null   float64\n",
            " 50  Other Current Liabilities                            1781 non-null   float64\n",
            " 51  Other Equity                                         1781 non-null   float64\n",
            " 52  Other Financing Activities                           1781 non-null   float64\n",
            " 53  Other Investing Activities                           1781 non-null   float64\n",
            " 54  Other Liabilities                                    1781 non-null   float64\n",
            " 55  Other Operating Activities                           1781 non-null   float64\n",
            " 56  Other Operating Items                                1781 non-null   float64\n",
            " 57  Pre-Tax Margin                                       1781 non-null   float64\n",
            " 58  Pre-Tax ROE                                          1781 non-null   float64\n",
            " 59  Profit Margin                                        1781 non-null   float64\n",
            " 60  Quick Ratio                                          1482 non-null   float64\n",
            " 61  Research and Development                             1781 non-null   float64\n",
            " 62  Retained Earnings                                    1781 non-null   float64\n",
            " 63  Sale and Purchase of Stock                           1781 non-null   float64\n",
            " 64  Sales, General and Admin.                            1781 non-null   float64\n",
            " 65  Short-Term Debt / Current Portion of Long-Term Debt  1781 non-null   float64\n",
            " 66  Short-Term Investments                               1781 non-null   float64\n",
            " 67  Total Assets                                         1781 non-null   float64\n",
            " 68  Total Current Assets                                 1781 non-null   float64\n",
            " 69  Total Current Liabilities                            1781 non-null   float64\n",
            " 70  Total Equity                                         1781 non-null   float64\n",
            " 71  Total Liabilities                                    1781 non-null   float64\n",
            " 72  Total Liabilities & Equity                           1781 non-null   float64\n",
            " 73  Total Revenue                                        1781 non-null   float64\n",
            " 74  Treasury Stock                                       1781 non-null   float64\n",
            " 75  For Year                                             1608 non-null   float64\n",
            " 76  Earnings Per Share                                   1562 non-null   float64\n",
            " 77  Estimated Shares Outstanding                         1562 non-null   float64\n",
            " 78  Security                                             1781 non-null   object \n",
            " 79  SEC filings                                          1781 non-null   object \n",
            " 80  GICS Sector                                          1781 non-null   object \n",
            " 81  GICS Sub Industry                                    1781 non-null   object \n",
            " 82  Address of Headquarters                              1781 non-null   object \n",
            " 83  Date first added                                     1084 non-null   object \n",
            " 84  CIK                                                  1781 non-null   int64  \n",
            "dtypes: float64(76), int64(1), object(8)\n",
            "memory usage: 1.2+ MB\n"
          ],
          "name": "stdout"
        }
      ]
    },
    {
      "cell_type": "code",
      "metadata": {
        "id": "WArecE9QYL2V",
        "colab": {
          "base_uri": "https://localhost:8080/",
          "height": 34
        },
        "outputId": "34d875ac-0815-42ce-aea1-f858ab43f8d8"
      },
      "source": [
        "len(fundamentals[\"Ticker Symbol\"].unique())"
      ],
      "execution_count": null,
      "outputs": [
        {
          "output_type": "execute_result",
          "data": {
            "text/plain": [
              "448"
            ]
          },
          "metadata": {
            "tags": []
          },
          "execution_count": 28
        }
      ]
    },
    {
      "cell_type": "markdown",
      "metadata": {
        "id": "luirAks9IxxI"
      },
      "source": [
        "Within the fundamentals data set there are at least 84 different columns with data, with 448 symbols for Ticker Symbols. "
      ]
    },
    {
      "cell_type": "code",
      "metadata": {
        "id": "x1-CCly_i8CI",
        "colab": {
          "base_uri": "https://localhost:8080/",
          "height": 221
        },
        "outputId": "2e3d4a81-2d37-48ec-c2d1-10436f615c00"
      },
      "source": [
        "fundamentals.isnull().sum()"
      ],
      "execution_count": null,
      "outputs": [
        {
          "output_type": "execute_result",
          "data": {
            "text/plain": [
              "Ticker Symbol                   0\n",
              "Period Ending                   0\n",
              "Accounts Payable                0\n",
              "Accounts Receivable             0\n",
              "Add'l income/expense items      0\n",
              "                             ... \n",
              "GICS Sector                     0\n",
              "GICS Sub Industry               0\n",
              "Address of Headquarters         0\n",
              "Date first added              697\n",
              "CIK                             0\n",
              "Length: 85, dtype: int64"
            ]
          },
          "metadata": {
            "tags": []
          },
          "execution_count": 59
        }
      ]
    },
    {
      "cell_type": "markdown",
      "metadata": {
        "id": "ZMnc20lHvWLb"
      },
      "source": [
        "The only missing entery's in this dataset we're in \"Date first added\". This could mean that many companies may not have numbers when came into the stock market"
      ]
    },
    {
      "cell_type": "code",
      "metadata": {
        "id": "-y6ZAaQojvJl",
        "colab": {
          "base_uri": "https://localhost:8080/",
          "height": 238
        },
        "outputId": "d48f4247-df0a-480a-d1c0-a5d6d1683d69"
      },
      "source": [
        "fundamentals.groupby(\"GICS Sector\")[\"Total Revenue\"].mean()"
      ],
      "execution_count": null,
      "outputs": [
        {
          "output_type": "execute_result",
          "data": {
            "text/plain": [
              "GICS Sector\n",
              "Consumer Discretionary         1.805898e+10\n",
              "Consumer Staples               4.340793e+10\n",
              "Energy                         3.898480e+10\n",
              "Financials                     1.877966e+10\n",
              "Health Care                    2.314222e+10\n",
              "Industrials                    1.654767e+10\n",
              "Information Technology         1.561791e+10\n",
              "Materials                      1.183452e+10\n",
              "Real Estate                    2.474288e+09\n",
              "Telecommunications Services    5.753739e+10\n",
              "Utilities                      1.113568e+10\n",
              "Name: Total Revenue, dtype: float64"
            ]
          },
          "metadata": {
            "tags": []
          },
          "execution_count": 30
        }
      ]
    },
    {
      "cell_type": "code",
      "metadata": {
        "id": "bJiwYaj5jzTz",
        "colab": {
          "base_uri": "https://localhost:8080/",
          "height": 298
        },
        "outputId": "7ef4f879-4fdf-41f8-8854-dd1086b5d192"
      },
      "source": [
        "fundamentals.groupby(\"GICS Sector\")[\"Total Revenue\"].mean().plot.barh()"
      ],
      "execution_count": null,
      "outputs": [
        {
          "output_type": "execute_result",
          "data": {
            "text/plain": [
              "<matplotlib.axes._subplots.AxesSubplot at 0x7f6972b11e10>"
            ]
          },
          "metadata": {
            "tags": []
          },
          "execution_count": 31
        },
        {
          "output_type": "display_data",
          "data": {
            "image/png": "[encoded data removed]",
            "text/plain": [
              "<Figure size 432x288 with 1 Axes>"
            ]
          },
          "metadata": {
            "tags": []
          }
        }
      ]
    },
    {
      "cell_type": "markdown",
      "metadata": {
        "id": "Y-od_lFnwCWx"
      },
      "source": [
        " Here we found the average Total Revenue from each sector in the stock market. It is easier to see on the graph that Telecommunications Services has the highest average of Total Revenue."
      ]
    },
    {
      "cell_type": "code",
      "metadata": {
        "id": "l5QrEgjyj2HC",
        "colab": {
          "base_uri": "https://localhost:8080/",
          "height": 221
        },
        "outputId": "0ab12f9a-41d0-47b6-a7dd-74f643ab069f"
      },
      "source": [
        "index = fundamentals[\"Total Revenue\"].idxmax()\n",
        "fundamentals.iloc[index]"
      ],
      "execution_count": null,
      "outputs": [
        {
          "output_type": "execute_result",
          "data": {
            "text/plain": [
              "Ticker Symbol                                          WMT\n",
              "Period Ending                                   2015-01-31\n",
              "Accounts Payable                                5.8583e+10\n",
              "Accounts Receivable                              -5.69e+08\n",
              "Add'l income/expense items                        1.13e+08\n",
              "                                          ...             \n",
              "GICS Sector                               Consumer Staples\n",
              "GICS Sub Industry             Hypermarkets & Super Centers\n",
              "Address of Headquarters              Bentonville, Arkansas\n",
              "Date first added                                1982-08-31\n",
              "CIK                                                 104169\n",
              "Name: 1708, Length: 85, dtype: object"
            ]
          },
          "metadata": {
            "tags": []
          },
          "execution_count": 32
        }
      ]
    },
    {
      "cell_type": "markdown",
      "metadata": {
        "id": "HiFHeSsg6WJD"
      },
      "source": [
        "Ticker Symbol WMT (Walmart) had the highest Total Revenue. This shows the exact period ending date and all the information relating of Walmart."
      ]
    },
    {
      "cell_type": "code",
      "metadata": {
        "id": "hrBLPUzqERi1",
        "colab": {
          "base_uri": "https://localhost:8080/",
          "height": 443
        },
        "outputId": "0b9dedfa-9987-4f4e-b95c-b3a2df5d3440"
      },
      "source": [
        "wmt = fundamentals[fundamentals['Ticker Symbol']=='WMT']\n",
        "wmt.head()"
      ],
      "execution_count": null,
      "outputs": [
        {
          "output_type": "execute_result",
          "data": {
            "text/html": [
              "<div>\n",
              "<style scoped>\n",
              "    .dataframe tbody tr th:only-of-type {\n",
              "        vertical-align: middle;\n",
              "    }\n",
              "\n",
              "    .dataframe tbody tr th {\n",
              "        vertical-align: top;\n",
              "    }\n",
              "\n",
              "    .dataframe thead th {\n",
              "        text-align: right;\n",
              "    }\n",
              "</style>\n",
              "<table border=\"1\" class=\"dataframe\">\n",
              "  <thead>\n",
              "    <tr style=\"text-align: right;\">\n",
              "      <th></th>\n",
              "      <th>Ticker Symbol</th>\n",
              "      <th>Period Ending</th>\n",
              "      <th>Accounts Payable</th>\n",
              "      <th>Accounts Receivable</th>\n",
              "      <th>Add'l income/expense items</th>\n",
              "      <th>After Tax ROE</th>\n",
              "      <th>Capital Expenditures</th>\n",
              "      <th>Capital Surplus</th>\n",
              "      <th>Cash Ratio</th>\n",
              "      <th>Cash and Cash Equivalents</th>\n",
              "      <th>Changes in Inventories</th>\n",
              "      <th>Common Stocks</th>\n",
              "      <th>Cost of Revenue</th>\n",
              "      <th>Current Ratio</th>\n",
              "      <th>Deferred Asset Charges</th>\n",
              "      <th>Deferred Liability Charges</th>\n",
              "      <th>Depreciation</th>\n",
              "      <th>Earnings Before Interest and Tax</th>\n",
              "      <th>Earnings Before Tax</th>\n",
              "      <th>Effect of Exchange Rate</th>\n",
              "      <th>Equity Earnings/Loss Unconsolidated Subsidiary</th>\n",
              "      <th>Fixed Assets</th>\n",
              "      <th>Goodwill</th>\n",
              "      <th>Gross Margin</th>\n",
              "      <th>Gross Profit</th>\n",
              "      <th>Income Tax</th>\n",
              "      <th>Intangible Assets</th>\n",
              "      <th>Interest Expense</th>\n",
              "      <th>Inventory</th>\n",
              "      <th>Investments</th>\n",
              "      <th>Liabilities</th>\n",
              "      <th>Long-Term Debt</th>\n",
              "      <th>Long-Term Investments</th>\n",
              "      <th>Minority Interest</th>\n",
              "      <th>Misc. Stocks</th>\n",
              "      <th>Net Borrowings</th>\n",
              "      <th>Net Cash Flow</th>\n",
              "      <th>Net Cash Flow-Operating</th>\n",
              "      <th>Net Cash Flows-Financing</th>\n",
              "      <th>Net Cash Flows-Investing</th>\n",
              "      <th>...</th>\n",
              "      <th>Non-Recurring Items</th>\n",
              "      <th>Operating Income</th>\n",
              "      <th>Operating Margin</th>\n",
              "      <th>Other Assets</th>\n",
              "      <th>Other Current Assets</th>\n",
              "      <th>Other Current Liabilities</th>\n",
              "      <th>Other Equity</th>\n",
              "      <th>Other Financing Activities</th>\n",
              "      <th>Other Investing Activities</th>\n",
              "      <th>Other Liabilities</th>\n",
              "      <th>Other Operating Activities</th>\n",
              "      <th>Other Operating Items</th>\n",
              "      <th>Pre-Tax Margin</th>\n",
              "      <th>Pre-Tax ROE</th>\n",
              "      <th>Profit Margin</th>\n",
              "      <th>Quick Ratio</th>\n",
              "      <th>Research and Development</th>\n",
              "      <th>Retained Earnings</th>\n",
              "      <th>Sale and Purchase of Stock</th>\n",
              "      <th>Sales, General and Admin.</th>\n",
              "      <th>Short-Term Debt / Current Portion of Long-Term Debt</th>\n",
              "      <th>Short-Term Investments</th>\n",
              "      <th>Total Assets</th>\n",
              "      <th>Total Current Assets</th>\n",
              "      <th>Total Current Liabilities</th>\n",
              "      <th>Total Equity</th>\n",
              "      <th>Total Liabilities</th>\n",
              "      <th>Total Liabilities &amp; Equity</th>\n",
              "      <th>Total Revenue</th>\n",
              "      <th>Treasury Stock</th>\n",
              "      <th>For Year</th>\n",
              "      <th>Earnings Per Share</th>\n",
              "      <th>Estimated Shares Outstanding</th>\n",
              "      <th>Security</th>\n",
              "      <th>SEC filings</th>\n",
              "      <th>GICS Sector</th>\n",
              "      <th>GICS Sub Industry</th>\n",
              "      <th>Address of Headquarters</th>\n",
              "      <th>Date first added</th>\n",
              "      <th>CIK</th>\n",
              "    </tr>\n",
              "  </thead>\n",
              "  <tbody>\n",
              "    <tr>\n",
              "      <th>1706</th>\n",
              "      <td>WMT</td>\n",
              "      <td>2013-01-31</td>\n",
              "      <td>5.909900e+10</td>\n",
              "      <td>-614000000.0</td>\n",
              "      <td>186000000.0</td>\n",
              "      <td>22.0</td>\n",
              "      <td>-1.289800e+10</td>\n",
              "      <td>3.620000e+09</td>\n",
              "      <td>11.0</td>\n",
              "      <td>7.781000e+09</td>\n",
              "      <td>-2.759000e+09</td>\n",
              "      <td>332000000.0</td>\n",
              "      <td>3.522970e+11</td>\n",
              "      <td>83.0</td>\n",
              "      <td>0.0</td>\n",
              "      <td>7.613000e+09</td>\n",
              "      <td>8.478000e+09</td>\n",
              "      <td>2.791100e+10</td>\n",
              "      <td>2.566200e+10</td>\n",
              "      <td>2.230000e+08</td>\n",
              "      <td>0.0</td>\n",
              "      <td>1.166810e+11</td>\n",
              "      <td>2.049700e+10</td>\n",
              "      <td>25.0</td>\n",
              "      <td>1.163540e+11</td>\n",
              "      <td>7.958000e+09</td>\n",
              "      <td>0.0</td>\n",
              "      <td>2.249000e+09</td>\n",
              "      <td>4.380300e+10</td>\n",
              "      <td>0.0</td>\n",
              "      <td>2.313000e+09</td>\n",
              "      <td>4.141700e+10</td>\n",
              "      <td>0.0</td>\n",
              "      <td>5.395000e+09</td>\n",
              "      <td>5.190000e+08</td>\n",
              "      <td>1.487000e+09</td>\n",
              "      <td>1.231000e+09</td>\n",
              "      <td>2.559100e+10</td>\n",
              "      <td>-1.194600e+10</td>\n",
              "      <td>-1.263700e+10</td>\n",
              "      <td>...</td>\n",
              "      <td>0.0</td>\n",
              "      <td>2.772500e+10</td>\n",
              "      <td>6.0</td>\n",
              "      <td>5.987000e+09</td>\n",
              "      <td>1.588000e+09</td>\n",
              "      <td>0.0</td>\n",
              "      <td>-5.870000e+08</td>\n",
              "      <td>-58000000.0</td>\n",
              "      <td>2.610000e+08</td>\n",
              "      <td>0.0</td>\n",
              "      <td>0.0</td>\n",
              "      <td>0.0</td>\n",
              "      <td>5.0</td>\n",
              "      <td>34.0</td>\n",
              "      <td>4.0</td>\n",
              "      <td>22.0</td>\n",
              "      <td>0.0</td>\n",
              "      <td>7.297800e+10</td>\n",
              "      <td>-7.732000e+09</td>\n",
              "      <td>8.862900e+10</td>\n",
              "      <td>1.271900e+10</td>\n",
              "      <td>0.0</td>\n",
              "      <td>2.031050e+11</td>\n",
              "      <td>5.994000e+10</td>\n",
              "      <td>7.181800e+10</td>\n",
              "      <td>7.634300e+10</td>\n",
              "      <td>1.267620e+11</td>\n",
              "      <td>2.031050e+11</td>\n",
              "      <td>4.686510e+11</td>\n",
              "      <td>0.0</td>\n",
              "      <td>2013.0</td>\n",
              "      <td>5.04</td>\n",
              "      <td>3.372817e+09</td>\n",
              "      <td>Wal-Mart Stores</td>\n",
              "      <td>reports</td>\n",
              "      <td>Consumer Staples</td>\n",
              "      <td>Hypermarkets &amp; Super Centers</td>\n",
              "      <td>Bentonville, Arkansas</td>\n",
              "      <td>1982-08-31</td>\n",
              "      <td>104169</td>\n",
              "    </tr>\n",
              "    <tr>\n",
              "      <th>1707</th>\n",
              "      <td>WMT</td>\n",
              "      <td>2014-01-31</td>\n",
              "      <td>5.717400e+10</td>\n",
              "      <td>-566000000.0</td>\n",
              "      <td>119000000.0</td>\n",
              "      <td>21.0</td>\n",
              "      <td>-1.311500e+10</td>\n",
              "      <td>2.362000e+09</td>\n",
              "      <td>10.0</td>\n",
              "      <td>7.281000e+09</td>\n",
              "      <td>-1.667000e+09</td>\n",
              "      <td>323000000.0</td>\n",
              "      <td>3.580690e+11</td>\n",
              "      <td>88.0</td>\n",
              "      <td>0.0</td>\n",
              "      <td>8.017000e+09</td>\n",
              "      <td>8.870000e+09</td>\n",
              "      <td>2.699100e+10</td>\n",
              "      <td>2.465600e+10</td>\n",
              "      <td>-4.420000e+08</td>\n",
              "      <td>0.0</td>\n",
              "      <td>1.179070e+11</td>\n",
              "      <td>1.951000e+10</td>\n",
              "      <td>25.0</td>\n",
              "      <td>1.182250e+11</td>\n",
              "      <td>8.105000e+09</td>\n",
              "      <td>0.0</td>\n",
              "      <td>2.335000e+09</td>\n",
              "      <td>4.485800e+10</td>\n",
              "      <td>0.0</td>\n",
              "      <td>-5.900000e+08</td>\n",
              "      <td>4.455900e+10</td>\n",
              "      <td>0.0</td>\n",
              "      <td>5.084000e+09</td>\n",
              "      <td>1.491000e+09</td>\n",
              "      <td>3.015000e+09</td>\n",
              "      <td>-5.000000e+08</td>\n",
              "      <td>2.325700e+10</td>\n",
              "      <td>-1.078900e+10</td>\n",
              "      <td>-1.252600e+10</td>\n",
              "      <td>...</td>\n",
              "      <td>0.0</td>\n",
              "      <td>2.687200e+10</td>\n",
              "      <td>6.0</td>\n",
              "      <td>6.149000e+09</td>\n",
              "      <td>2.369000e+09</td>\n",
              "      <td>89000000.0</td>\n",
              "      <td>-2.996000e+09</td>\n",
              "      <td>-260000000.0</td>\n",
              "      <td>5.890000e+08</td>\n",
              "      <td>0.0</td>\n",
              "      <td>0.0</td>\n",
              "      <td>0.0</td>\n",
              "      <td>5.0</td>\n",
              "      <td>32.0</td>\n",
              "      <td>3.0</td>\n",
              "      <td>24.0</td>\n",
              "      <td>0.0</td>\n",
              "      <td>7.656600e+10</td>\n",
              "      <td>-6.979000e+09</td>\n",
              "      <td>9.135300e+10</td>\n",
              "      <td>1.208200e+10</td>\n",
              "      <td>0.0</td>\n",
              "      <td>2.047510e+11</td>\n",
              "      <td>6.118500e+10</td>\n",
              "      <td>6.934500e+10</td>\n",
              "      <td>7.625500e+10</td>\n",
              "      <td>1.284960e+11</td>\n",
              "      <td>2.047510e+11</td>\n",
              "      <td>4.762940e+11</td>\n",
              "      <td>0.0</td>\n",
              "      <td>2014.0</td>\n",
              "      <td>4.90</td>\n",
              "      <td>3.269796e+09</td>\n",
              "      <td>Wal-Mart Stores</td>\n",
              "      <td>reports</td>\n",
              "      <td>Consumer Staples</td>\n",
              "      <td>Hypermarkets &amp; Super Centers</td>\n",
              "      <td>Bentonville, Arkansas</td>\n",
              "      <td>1982-08-31</td>\n",
              "      <td>104169</td>\n",
              "    </tr>\n",
              "    <tr>\n",
              "      <th>1708</th>\n",
              "      <td>WMT</td>\n",
              "      <td>2015-01-31</td>\n",
              "      <td>5.858300e+10</td>\n",
              "      <td>-569000000.0</td>\n",
              "      <td>113000000.0</td>\n",
              "      <td>20.0</td>\n",
              "      <td>-1.217400e+10</td>\n",
              "      <td>2.462000e+09</td>\n",
              "      <td>14.0</td>\n",
              "      <td>9.135000e+09</td>\n",
              "      <td>-1.229000e+09</td>\n",
              "      <td>323000000.0</td>\n",
              "      <td>3.650860e+11</td>\n",
              "      <td>97.0</td>\n",
              "      <td>0.0</td>\n",
              "      <td>8.805000e+09</td>\n",
              "      <td>9.173000e+09</td>\n",
              "      <td>2.726000e+10</td>\n",
              "      <td>2.479900e+10</td>\n",
              "      <td>-5.140000e+08</td>\n",
              "      <td>0.0</td>\n",
              "      <td>1.166550e+11</td>\n",
              "      <td>1.810200e+10</td>\n",
              "      <td>25.0</td>\n",
              "      <td>1.205650e+11</td>\n",
              "      <td>7.985000e+09</td>\n",
              "      <td>0.0</td>\n",
              "      <td>2.461000e+09</td>\n",
              "      <td>4.514100e+10</td>\n",
              "      <td>0.0</td>\n",
              "      <td>4.093000e+09</td>\n",
              "      <td>4.349500e+10</td>\n",
              "      <td>0.0</td>\n",
              "      <td>4.543000e+09</td>\n",
              "      <td>0.000000e+00</td>\n",
              "      <td>-5.018000e+09</td>\n",
              "      <td>1.854000e+09</td>\n",
              "      <td>2.856400e+10</td>\n",
              "      <td>-1.507100e+10</td>\n",
              "      <td>-1.112500e+10</td>\n",
              "      <td>...</td>\n",
              "      <td>0.0</td>\n",
              "      <td>2.714700e+10</td>\n",
              "      <td>6.0</td>\n",
              "      <td>5.455000e+09</td>\n",
              "      <td>2.224000e+09</td>\n",
              "      <td>0.0</td>\n",
              "      <td>-7.168000e+09</td>\n",
              "      <td>-409000000.0</td>\n",
              "      <td>1.049000e+09</td>\n",
              "      <td>0.0</td>\n",
              "      <td>0.0</td>\n",
              "      <td>0.0</td>\n",
              "      <td>5.0</td>\n",
              "      <td>30.0</td>\n",
              "      <td>3.0</td>\n",
              "      <td>28.0</td>\n",
              "      <td>0.0</td>\n",
              "      <td>8.577700e+10</td>\n",
              "      <td>-2.859000e+09</td>\n",
              "      <td>9.341800e+10</td>\n",
              "      <td>6.670000e+09</td>\n",
              "      <td>0.0</td>\n",
              "      <td>2.034900e+11</td>\n",
              "      <td>6.327800e+10</td>\n",
              "      <td>6.525300e+10</td>\n",
              "      <td>8.139400e+10</td>\n",
              "      <td>1.220960e+11</td>\n",
              "      <td>2.034900e+11</td>\n",
              "      <td>4.856510e+11</td>\n",
              "      <td>0.0</td>\n",
              "      <td>2015.0</td>\n",
              "      <td>5.07</td>\n",
              "      <td>3.227416e+09</td>\n",
              "      <td>Wal-Mart Stores</td>\n",
              "      <td>reports</td>\n",
              "      <td>Consumer Staples</td>\n",
              "      <td>Hypermarkets &amp; Super Centers</td>\n",
              "      <td>Bentonville, Arkansas</td>\n",
              "      <td>1982-08-31</td>\n",
              "      <td>104169</td>\n",
              "    </tr>\n",
              "    <tr>\n",
              "      <th>1709</th>\n",
              "      <td>WMT</td>\n",
              "      <td>2016-01-31</td>\n",
              "      <td>5.861500e+10</td>\n",
              "      <td>-19000000.0</td>\n",
              "      <td>81000000.0</td>\n",
              "      <td>18.0</td>\n",
              "      <td>-1.147700e+10</td>\n",
              "      <td>1.805000e+09</td>\n",
              "      <td>13.0</td>\n",
              "      <td>8.705000e+09</td>\n",
              "      <td>-7.030000e+08</td>\n",
              "      <td>317000000.0</td>\n",
              "      <td>3.609840e+11</td>\n",
              "      <td>93.0</td>\n",
              "      <td>0.0</td>\n",
              "      <td>7.321000e+09</td>\n",
              "      <td>9.454000e+09</td>\n",
              "      <td>2.418600e+10</td>\n",
              "      <td>2.163800e+10</td>\n",
              "      <td>-1.022000e+09</td>\n",
              "      <td>0.0</td>\n",
              "      <td>1.165160e+11</td>\n",
              "      <td>1.669500e+10</td>\n",
              "      <td>25.0</td>\n",
              "      <td>1.211460e+11</td>\n",
              "      <td>6.558000e+09</td>\n",
              "      <td>0.0</td>\n",
              "      <td>2.548000e+09</td>\n",
              "      <td>4.446900e+10</td>\n",
              "      <td>0.0</td>\n",
              "      <td>2.839000e+09</td>\n",
              "      <td>4.403000e+10</td>\n",
              "      <td>0.0</td>\n",
              "      <td>3.065000e+09</td>\n",
              "      <td>0.000000e+00</td>\n",
              "      <td>-3.158000e+09</td>\n",
              "      <td>-4.300000e+08</td>\n",
              "      <td>2.738900e+10</td>\n",
              "      <td>-1.612200e+10</td>\n",
              "      <td>-1.067500e+10</td>\n",
              "      <td>...</td>\n",
              "      <td>0.0</td>\n",
              "      <td>2.410500e+10</td>\n",
              "      <td>5.0</td>\n",
              "      <td>6.131000e+09</td>\n",
              "      <td>1.441000e+09</td>\n",
              "      <td>0.0</td>\n",
              "      <td>-1.159700e+10</td>\n",
              "      <td>-513000000.0</td>\n",
              "      <td>8.020000e+08</td>\n",
              "      <td>0.0</td>\n",
              "      <td>0.0</td>\n",
              "      <td>0.0</td>\n",
              "      <td>4.0</td>\n",
              "      <td>27.0</td>\n",
              "      <td>3.0</td>\n",
              "      <td>24.0</td>\n",
              "      <td>0.0</td>\n",
              "      <td>9.002100e+10</td>\n",
              "      <td>-5.438000e+09</td>\n",
              "      <td>9.704100e+10</td>\n",
              "      <td>6.004000e+09</td>\n",
              "      <td>0.0</td>\n",
              "      <td>1.995810e+11</td>\n",
              "      <td>6.023900e+10</td>\n",
              "      <td>6.461900e+10</td>\n",
              "      <td>8.054600e+10</td>\n",
              "      <td>1.190350e+11</td>\n",
              "      <td>1.995810e+11</td>\n",
              "      <td>4.821300e+11</td>\n",
              "      <td>0.0</td>\n",
              "      <td>2016.0</td>\n",
              "      <td>4.58</td>\n",
              "      <td>3.208297e+09</td>\n",
              "      <td>Wal-Mart Stores</td>\n",
              "      <td>reports</td>\n",
              "      <td>Consumer Staples</td>\n",
              "      <td>Hypermarkets &amp; Super Centers</td>\n",
              "      <td>Bentonville, Arkansas</td>\n",
              "      <td>1982-08-31</td>\n",
              "      <td>104169</td>\n",
              "    </tr>\n",
              "  </tbody>\n",
              "</table>\n",
              "<p>4 rows × 85 columns</p>\n",
              "</div>"
            ],
            "text/plain": [
              "     Ticker Symbol Period Ending  ...  Date first added     CIK\n",
              "1706           WMT    2013-01-31  ...        1982-08-31  104169\n",
              "1707           WMT    2014-01-31  ...        1982-08-31  104169\n",
              "1708           WMT    2015-01-31  ...        1982-08-31  104169\n",
              "1709           WMT    2016-01-31  ...        1982-08-31  104169\n",
              "\n",
              "[4 rows x 85 columns]"
            ]
          },
          "metadata": {
            "tags": []
          },
          "execution_count": 4
        }
      ]
    },
    {
      "cell_type": "code",
      "metadata": {
        "id": "9xWI9grTdbGG",
        "colab": {
          "base_uri": "https://localhost:8080/",
          "height": 301
        },
        "outputId": "ed26e87a-5bfa-4900-ce99-8a36d3a90163"
      },
      "source": [
        "wmt.boxplot(\"Total Revenue\", by=\"Period Ending\")\n",
        "plt.show()"
      ],
      "execution_count": null,
      "outputs": [
        {
          "output_type": "display_data",
          "data": {
            "image/png": "[encoded data removed]",
            "text/plain": [
              "<Figure size 432x288 with 1 Axes>"
            ]
          },
          "metadata": {
            "tags": [],
            "needs_background": "light"
          }
        }
      ]
    },
    {
      "cell_type": "markdown",
      "metadata": {
        "id": "UrG4FGSVyNDN"
      },
      "source": [
        "This box plot gives us data for ending periods from 2013-2016. Each year's ending period was on January 31st. Showing us that the highest Total Revnue what in 2015 and the lowest revenue was in 2013. "
      ]
    },
    {
      "cell_type": "markdown",
      "metadata": {
        "id": "ZYa-YW4NEW4Z"
      },
      "source": [
        "Now we are just looking at data for specifically for Walmart from the fundamentals data set. "
      ]
    },
    {
      "cell_type": "code",
      "metadata": {
        "id": "jJEOs9EcWvkT",
        "colab": {
          "base_uri": "https://localhost:8080/",
          "height": 884
        },
        "outputId": "1d0311e8-3e5d-4356-a350-d5c81e5e14f9"
      },
      "source": [
        "corr = wmt.corr()[\"Total Revenue\"]\n",
        "cond = corr < 1.0\n",
        "corr[cond].abs().sort_values().tail(50)"
      ],
      "execution_count": null,
      "outputs": [
        {
          "output_type": "execute_result",
          "data": {
            "text/plain": [
              "Operating Margin                                       0.354111\n",
              "Accounts Receivable                                    0.411371\n",
              "Liabilities                                            0.471793\n",
              "Operating Income                                       0.473149\n",
              "Earnings Before Interest and Tax                       0.485673\n",
              "Deferred Liability Charges                             0.486571\n",
              "Misc. Stocks                                           0.495048\n",
              "Other Assets                                           0.511722\n",
              "Earnings Before Tax                                    0.521380\n",
              "Net Income Applicable to Common Shareholders           0.553953\n",
              "Net Income                                             0.553953\n",
              "Net Income-Cont. Operations                            0.610413\n",
              "Long-Term Debt                                         0.648842\n",
              "Minority Interest                                      0.650133\n",
              "Net Cash Flow-Operating                                0.653871\n",
              "Capital Expenditures                                   0.688665\n",
              "Total Current Assets                                   0.706579\n",
              "Total Liabilities                                      0.711834\n",
              "Net Cash Flows-Financing                               0.746545\n",
              "After Tax ROE                                          0.757376\n",
              "Cash and Cash Equivalents                              0.779535\n",
              "Cash Ratio                                             0.790677\n",
              "Capital Surplus                                        0.790892\n",
              "Common Stocks                                          0.793667\n",
              "Effect of Exchange Rate                                0.804101\n",
              "Pre-Tax ROE                                            0.807037\n",
              "Sales, General and Admin.                              0.807430\n",
              "Other Equity                                           0.815735\n",
              "Inventory                                              0.822742\n",
              "Net Borrowings                                         0.826117\n",
              "Goodwill                                               0.838637\n",
              "Add'l income/expense items                             0.847242\n",
              "Net Cash Flows-Investing                               0.853740\n",
              "Profit Margin                                          0.854718\n",
              "For Year                                               0.864768\n",
              "Quick Ratio                                            0.871999\n",
              "Interest Expense                                       0.880766\n",
              "Retained Earnings                                      0.884922\n",
              "Depreciation                                           0.890004\n",
              "Changes in Inventories                                 0.897497\n",
              "Short-Term Debt / Current Portion of Long-Term Debt    0.897796\n",
              "Total Equity                                           0.898583\n",
              "Other Financing Activities                             0.916615\n",
              "Sale and Purchase of Stock                             0.917544\n",
              "Estimated Shares Outstanding                           0.940725\n",
              "Gross Profit                                           0.951013\n",
              "Total Current Liabilities                              0.953884\n",
              "Cost of Revenue                                        0.991903\n",
              "Current Ratio                                          0.993521\n",
              "Other Investing Activities                             0.993699\n",
              "Name: Total Revenue, dtype: float64"
            ]
          },
          "metadata": {
            "tags": []
          },
          "execution_count": 60
        }
      ]
    },
    {
      "cell_type": "markdown",
      "metadata": {
        "id": "dDR9BQa-FFcL"
      },
      "source": [
        "From the 84 different columns, I am looking at the first 50 columns that are correlated to Total Revnue. It lists all the values from lowest to highest correlation to Total Revenue."
      ]
    },
    {
      "cell_type": "code",
      "metadata": {
        "id": "YRszqDglC2ma",
        "colab": {
          "base_uri": "https://localhost:8080/",
          "height": 623
        },
        "outputId": "8615b5d3-d74e-46b4-9664-d9a82c901738"
      },
      "source": [
        "prices.head(8)"
      ],
      "execution_count": null,
      "outputs": [
        {
          "output_type": "execute_result",
          "data": {
            "text/html": [
              "<div>\n",
              "<style scoped>\n",
              "    .dataframe tbody tr th:only-of-type {\n",
              "        vertical-align: middle;\n",
              "    }\n",
              "\n",
              "    .dataframe tbody tr th {\n",
              "        vertical-align: top;\n",
              "    }\n",
              "\n",
              "    .dataframe thead th {\n",
              "        text-align: right;\n",
              "    }\n",
              "</style>\n",
              "<table border=\"1\" class=\"dataframe\">\n",
              "  <thead>\n",
              "    <tr style=\"text-align: right;\">\n",
              "      <th></th>\n",
              "      <th>date</th>\n",
              "      <th>symbol</th>\n",
              "      <th>open</th>\n",
              "      <th>close</th>\n",
              "      <th>low</th>\n",
              "      <th>high</th>\n",
              "      <th>volume</th>\n",
              "      <th>Security</th>\n",
              "      <th>SEC filings</th>\n",
              "      <th>GICS Sector</th>\n",
              "      <th>GICS Sub Industry</th>\n",
              "      <th>Address of Headquarters</th>\n",
              "      <th>Date first added</th>\n",
              "      <th>CIK</th>\n",
              "    </tr>\n",
              "  </thead>\n",
              "  <tbody>\n",
              "    <tr>\n",
              "      <th>0</th>\n",
              "      <td>2016-01-05</td>\n",
              "      <td>WLTW</td>\n",
              "      <td>123.430000</td>\n",
              "      <td>125.839996</td>\n",
              "      <td>122.309998</td>\n",
              "      <td>126.250000</td>\n",
              "      <td>2163600.0</td>\n",
              "      <td>Willis Towers Watson</td>\n",
              "      <td>reports</td>\n",
              "      <td>Financials</td>\n",
              "      <td>Insurance Brokers</td>\n",
              "      <td>London, United Kingdom</td>\n",
              "      <td>2016-01-05</td>\n",
              "      <td>1140536</td>\n",
              "    </tr>\n",
              "    <tr>\n",
              "      <th>1</th>\n",
              "      <td>2016-01-06</td>\n",
              "      <td>WLTW</td>\n",
              "      <td>125.239998</td>\n",
              "      <td>119.980003</td>\n",
              "      <td>119.940002</td>\n",
              "      <td>125.540001</td>\n",
              "      <td>2386400.0</td>\n",
              "      <td>Willis Towers Watson</td>\n",
              "      <td>reports</td>\n",
              "      <td>Financials</td>\n",
              "      <td>Insurance Brokers</td>\n",
              "      <td>London, United Kingdom</td>\n",
              "      <td>2016-01-05</td>\n",
              "      <td>1140536</td>\n",
              "    </tr>\n",
              "    <tr>\n",
              "      <th>2</th>\n",
              "      <td>2016-01-07</td>\n",
              "      <td>WLTW</td>\n",
              "      <td>116.379997</td>\n",
              "      <td>114.949997</td>\n",
              "      <td>114.930000</td>\n",
              "      <td>119.739998</td>\n",
              "      <td>2489500.0</td>\n",
              "      <td>Willis Towers Watson</td>\n",
              "      <td>reports</td>\n",
              "      <td>Financials</td>\n",
              "      <td>Insurance Brokers</td>\n",
              "      <td>London, United Kingdom</td>\n",
              "      <td>2016-01-05</td>\n",
              "      <td>1140536</td>\n",
              "    </tr>\n",
              "    <tr>\n",
              "      <th>3</th>\n",
              "      <td>2016-01-08</td>\n",
              "      <td>WLTW</td>\n",
              "      <td>115.480003</td>\n",
              "      <td>116.620003</td>\n",
              "      <td>113.500000</td>\n",
              "      <td>117.440002</td>\n",
              "      <td>2006300.0</td>\n",
              "      <td>Willis Towers Watson</td>\n",
              "      <td>reports</td>\n",
              "      <td>Financials</td>\n",
              "      <td>Insurance Brokers</td>\n",
              "      <td>London, United Kingdom</td>\n",
              "      <td>2016-01-05</td>\n",
              "      <td>1140536</td>\n",
              "    </tr>\n",
              "    <tr>\n",
              "      <th>4</th>\n",
              "      <td>2016-01-11</td>\n",
              "      <td>WLTW</td>\n",
              "      <td>117.010002</td>\n",
              "      <td>114.970001</td>\n",
              "      <td>114.089996</td>\n",
              "      <td>117.330002</td>\n",
              "      <td>1408600.0</td>\n",
              "      <td>Willis Towers Watson</td>\n",
              "      <td>reports</td>\n",
              "      <td>Financials</td>\n",
              "      <td>Insurance Brokers</td>\n",
              "      <td>London, United Kingdom</td>\n",
              "      <td>2016-01-05</td>\n",
              "      <td>1140536</td>\n",
              "    </tr>\n",
              "    <tr>\n",
              "      <th>5</th>\n",
              "      <td>2016-01-12</td>\n",
              "      <td>WLTW</td>\n",
              "      <td>115.510002</td>\n",
              "      <td>115.550003</td>\n",
              "      <td>114.500000</td>\n",
              "      <td>116.059998</td>\n",
              "      <td>1098000.0</td>\n",
              "      <td>Willis Towers Watson</td>\n",
              "      <td>reports</td>\n",
              "      <td>Financials</td>\n",
              "      <td>Insurance Brokers</td>\n",
              "      <td>London, United Kingdom</td>\n",
              "      <td>2016-01-05</td>\n",
              "      <td>1140536</td>\n",
              "    </tr>\n",
              "    <tr>\n",
              "      <th>6</th>\n",
              "      <td>2016-01-13</td>\n",
              "      <td>WLTW</td>\n",
              "      <td>116.459999</td>\n",
              "      <td>112.849998</td>\n",
              "      <td>112.589996</td>\n",
              "      <td>117.070000</td>\n",
              "      <td>949600.0</td>\n",
              "      <td>Willis Towers Watson</td>\n",
              "      <td>reports</td>\n",
              "      <td>Financials</td>\n",
              "      <td>Insurance Brokers</td>\n",
              "      <td>London, United Kingdom</td>\n",
              "      <td>2016-01-05</td>\n",
              "      <td>1140536</td>\n",
              "    </tr>\n",
              "    <tr>\n",
              "      <th>7</th>\n",
              "      <td>2016-01-14</td>\n",
              "      <td>WLTW</td>\n",
              "      <td>113.510002</td>\n",
              "      <td>114.379997</td>\n",
              "      <td>110.050003</td>\n",
              "      <td>115.029999</td>\n",
              "      <td>785300.0</td>\n",
              "      <td>Willis Towers Watson</td>\n",
              "      <td>reports</td>\n",
              "      <td>Financials</td>\n",
              "      <td>Insurance Brokers</td>\n",
              "      <td>London, United Kingdom</td>\n",
              "      <td>2016-01-05</td>\n",
              "      <td>1140536</td>\n",
              "    </tr>\n",
              "  </tbody>\n",
              "</table>\n",
              "</div>"
            ],
            "text/plain": [
              "         date symbol  ...  Date first added      CIK\n",
              "0  2016-01-05   WLTW  ...        2016-01-05  1140536\n",
              "1  2016-01-06   WLTW  ...        2016-01-05  1140536\n",
              "2  2016-01-07   WLTW  ...        2016-01-05  1140536\n",
              "3  2016-01-08   WLTW  ...        2016-01-05  1140536\n",
              "4  2016-01-11   WLTW  ...        2016-01-05  1140536\n",
              "5  2016-01-12   WLTW  ...        2016-01-05  1140536\n",
              "6  2016-01-13   WLTW  ...        2016-01-05  1140536\n",
              "7  2016-01-14   WLTW  ...        2016-01-05  1140536\n",
              "\n",
              "[8 rows x 14 columns]"
            ]
          },
          "metadata": {
            "tags": []
          },
          "execution_count": 35
        }
      ]
    },
    {
      "cell_type": "code",
      "metadata": {
        "id": "Xj1xDh_Qohif",
        "colab": {
          "base_uri": "https://localhost:8080/",
          "height": 272
        },
        "outputId": "f0b79f2e-5db6-4269-9f5d-5d78ac9da968"
      },
      "source": [
        "prices.isnull().sum()"
      ],
      "execution_count": null,
      "outputs": [
        {
          "output_type": "execute_result",
          "data": {
            "text/plain": [
              "date                            0\n",
              "symbol                          0\n",
              "open                            0\n",
              "close                           0\n",
              "low                             0\n",
              "high                            0\n",
              "volume                          0\n",
              "Security                        0\n",
              "SEC filings                     0\n",
              "GICS Sector                     0\n",
              "GICS Sub Industry               0\n",
              "Address of Headquarters         0\n",
              "Date first added           345737\n",
              "CIK                             0\n",
              "dtype: int64"
            ]
          },
          "metadata": {
            "tags": []
          },
          "execution_count": 36
        }
      ]
    },
    {
      "cell_type": "markdown",
      "metadata": {
        "id": "81UXHWy-Pzl_"
      },
      "source": [
        "The only missing enteries for Date First Added. Which are entries from when they we're first added into the stock market."
      ]
    },
    {
      "cell_type": "code",
      "metadata": {
        "id": "5jZaBbtqGarI",
        "colab": {
          "base_uri": "https://localhost:8080/",
          "height": 299
        },
        "outputId": "baa88543-fb53-4a76-88e3-8246f975aef4"
      },
      "source": [
        "cond = prices[\"GICS Sector\"] == \"Telecommunications Services\"\n",
        "prices[cond].groupby(\"date\")[\"high\"].mean().plot()"
      ],
      "execution_count": null,
      "outputs": [
        {
          "output_type": "execute_result",
          "data": {
            "text/plain": [
              "<matplotlib.axes._subplots.AxesSubplot at 0x7f6972a27d30>"
            ]
          },
          "metadata": {
            "tags": []
          },
          "execution_count": 37
        },
        {
          "output_type": "display_data",
          "data": {
            "image/png": "[encoded data removed]",
            "text/plain": [
              "<Figure size 432x288 with 1 Axes>"
            ]
          },
          "metadata": {
            "tags": []
          }
        }
      ]
    },
    {
      "cell_type": "markdown",
      "metadata": {
        "id": "85T5sA_9Gdyn"
      },
      "source": [
        "From the average highest \"Total Revenue\" in GICS Sector Telecommunitcations Services, you can see the high for each day in the graph. "
      ]
    },
    {
      "cell_type": "code",
      "metadata": {
        "id": "QDq3ShrW4KCn",
        "colab": {
          "base_uri": "https://localhost:8080/",
          "height": 299
        },
        "outputId": "67864cd1-a588-49d0-aae1-19b0874111ca"
      },
      "source": [
        "cond2 = prices[\"symbol\"] == \"WMT\"\n",
        "prices[cond2].groupby(\"date\")[\"high\"].mean().plot()"
      ],
      "execution_count": null,
      "outputs": [
        {
          "output_type": "execute_result",
          "data": {
            "text/plain": [
              "<matplotlib.axes._subplots.AxesSubplot at 0x7f6972a09978>"
            ]
          },
          "metadata": {
            "tags": []
          },
          "execution_count": 38
        },
        {
          "output_type": "display_data",
          "data": {
            "image/png": "[encoded data removed]",
            "text/plain": [
              "<Figure size 432x288 with 1 Axes>"
            ]
          },
          "metadata": {
            "tags": []
          }
        }
      ]
    },
    {
      "cell_type": "markdown",
      "metadata": {
        "id": "TVmWV7Q6HCpd"
      },
      "source": [
        "Now looking at the average high for the Walmart stock, we see a huge drop within 2012 and eventually going up in the later years. Although it is a bit hard to read the dates on the bottom it shows that around 2014 adn 2015 it stock was at its highest just like in previous graph in fundamentals data set."
      ]
    },
    {
      "cell_type": "code",
      "metadata": {
        "id": "celVhBCMkGmL",
        "colab": {
          "base_uri": "https://localhost:8080/",
          "height": 663
        },
        "outputId": "6a536ea4-48bc-4a7a-a3cc-58b28b108c87"
      },
      "source": [
        "df = prices.loc[prices[\"symbol\"]== \"WMT\"]\n",
        "df.drop(\"symbol\", axis = 1, inplace=True)\n",
        "print(np.shape(df))\n",
        "df['date'] = pd.to_datetime(df['date'])\n",
        "df = df.set_index('date')\n",
        "\n",
        "df.head()"
      ],
      "execution_count": null,
      "outputs": [
        {
          "output_type": "stream",
          "text": [
            "(1762, 13)\n"
          ],
          "name": "stdout"
        },
        {
          "output_type": "stream",
          "text": [
            "/usr/local/lib/python3.6/dist-packages/pandas/core/frame.py:3997: SettingWithCopyWarning: \n",
            "A value is trying to be set on a copy of a slice from a DataFrame\n",
            "\n",
            "See the caveats in the documentation: https://pandas.pydata.org/pandas-docs/stable/user_guide/indexing.html#returning-a-view-versus-a-copy\n",
            "  errors=errors,\n",
            "/usr/local/lib/python3.6/dist-packages/ipykernel_launcher.py:4: SettingWithCopyWarning: \n",
            "A value is trying to be set on a copy of a slice from a DataFrame.\n",
            "Try using .loc[row_indexer,col_indexer] = value instead\n",
            "\n",
            "See the caveats in the documentation: https://pandas.pydata.org/pandas-docs/stable/user_guide/indexing.html#returning-a-view-versus-a-copy\n",
            "  after removing the cwd from sys.path.\n"
          ],
          "name": "stderr"
        },
        {
          "output_type": "execute_result",
          "data": {
            "text/html": [
              "<div>\n",
              "<style scoped>\n",
              "    .dataframe tbody tr th:only-of-type {\n",
              "        vertical-align: middle;\n",
              "    }\n",
              "\n",
              "    .dataframe tbody tr th {\n",
              "        vertical-align: top;\n",
              "    }\n",
              "\n",
              "    .dataframe thead th {\n",
              "        text-align: right;\n",
              "    }\n",
              "</style>\n",
              "<table border=\"1\" class=\"dataframe\">\n",
              "  <thead>\n",
              "    <tr style=\"text-align: right;\">\n",
              "      <th></th>\n",
              "      <th>open</th>\n",
              "      <th>close</th>\n",
              "      <th>low</th>\n",
              "      <th>high</th>\n",
              "      <th>volume</th>\n",
              "      <th>Security</th>\n",
              "      <th>SEC filings</th>\n",
              "      <th>GICS Sector</th>\n",
              "      <th>GICS Sub Industry</th>\n",
              "      <th>Address of Headquarters</th>\n",
              "      <th>Date first added</th>\n",
              "      <th>CIK</th>\n",
              "    </tr>\n",
              "    <tr>\n",
              "      <th>date</th>\n",
              "      <th></th>\n",
              "      <th></th>\n",
              "      <th></th>\n",
              "      <th></th>\n",
              "      <th></th>\n",
              "      <th></th>\n",
              "      <th></th>\n",
              "      <th></th>\n",
              "      <th></th>\n",
              "      <th></th>\n",
              "      <th></th>\n",
              "      <th></th>\n",
              "    </tr>\n",
              "  </thead>\n",
              "  <tbody>\n",
              "    <tr>\n",
              "      <th>2010-01-04</th>\n",
              "      <td>53.740002</td>\n",
              "      <td>54.230000</td>\n",
              "      <td>53.669998</td>\n",
              "      <td>54.669998</td>\n",
              "      <td>20753100.0</td>\n",
              "      <td>Wal-Mart Stores</td>\n",
              "      <td>reports</td>\n",
              "      <td>Consumer Staples</td>\n",
              "      <td>Hypermarkets &amp; Super Centers</td>\n",
              "      <td>Bentonville, Arkansas</td>\n",
              "      <td>1982-08-31</td>\n",
              "      <td>104169</td>\n",
              "    </tr>\n",
              "    <tr>\n",
              "      <th>2010-01-05</th>\n",
              "      <td>54.090000</td>\n",
              "      <td>53.689999</td>\n",
              "      <td>53.570000</td>\n",
              "      <td>54.189999</td>\n",
              "      <td>15648400.0</td>\n",
              "      <td>Wal-Mart Stores</td>\n",
              "      <td>reports</td>\n",
              "      <td>Consumer Staples</td>\n",
              "      <td>Hypermarkets &amp; Super Centers</td>\n",
              "      <td>Bentonville, Arkansas</td>\n",
              "      <td>1982-08-31</td>\n",
              "      <td>104169</td>\n",
              "    </tr>\n",
              "    <tr>\n",
              "      <th>2010-01-06</th>\n",
              "      <td>53.500000</td>\n",
              "      <td>53.570000</td>\n",
              "      <td>53.419998</td>\n",
              "      <td>53.830002</td>\n",
              "      <td>12517200.0</td>\n",
              "      <td>Wal-Mart Stores</td>\n",
              "      <td>reports</td>\n",
              "      <td>Consumer Staples</td>\n",
              "      <td>Hypermarkets &amp; Super Centers</td>\n",
              "      <td>Bentonville, Arkansas</td>\n",
              "      <td>1982-08-31</td>\n",
              "      <td>104169</td>\n",
              "    </tr>\n",
              "    <tr>\n",
              "      <th>2010-01-07</th>\n",
              "      <td>53.720001</td>\n",
              "      <td>53.599998</td>\n",
              "      <td>53.259998</td>\n",
              "      <td>53.750000</td>\n",
              "      <td>10662700.0</td>\n",
              "      <td>Wal-Mart Stores</td>\n",
              "      <td>reports</td>\n",
              "      <td>Consumer Staples</td>\n",
              "      <td>Hypermarkets &amp; Super Centers</td>\n",
              "      <td>Bentonville, Arkansas</td>\n",
              "      <td>1982-08-31</td>\n",
              "      <td>104169</td>\n",
              "    </tr>\n",
              "    <tr>\n",
              "      <th>2010-01-08</th>\n",
              "      <td>53.430000</td>\n",
              "      <td>53.330002</td>\n",
              "      <td>53.020000</td>\n",
              "      <td>53.529999</td>\n",
              "      <td>11363200.0</td>\n",
              "      <td>Wal-Mart Stores</td>\n",
              "      <td>reports</td>\n",
              "      <td>Consumer Staples</td>\n",
              "      <td>Hypermarkets &amp; Super Centers</td>\n",
              "      <td>Bentonville, Arkansas</td>\n",
              "      <td>1982-08-31</td>\n",
              "      <td>104169</td>\n",
              "    </tr>\n",
              "  </tbody>\n",
              "</table>\n",
              "</div>"
            ],
            "text/plain": [
              "                 open      close  ...  Date first added     CIK\n",
              "date                              ...                          \n",
              "2010-01-04  53.740002  54.230000  ...        1982-08-31  104169\n",
              "2010-01-05  54.090000  53.689999  ...        1982-08-31  104169\n",
              "2010-01-06  53.500000  53.570000  ...        1982-08-31  104169\n",
              "2010-01-07  53.720001  53.599998  ...        1982-08-31  104169\n",
              "2010-01-08  53.430000  53.330002  ...        1982-08-31  104169\n",
              "\n",
              "[5 rows x 12 columns]"
            ]
          },
          "metadata": {
            "tags": []
          },
          "execution_count": 70
        }
      ]
    },
    {
      "cell_type": "markdown",
      "metadata": {
        "id": "XwvJNB-x0aLc"
      },
      "source": [
        "We can take out all the data for Walmart and shifting the dates to the in the index for. Now each date correlates to the exact column. Dates start from January of 2010 going all the way down to 2016."
      ]
    },
    {
      "cell_type": "code",
      "metadata": {
        "id": "iKvD9e6Sr_W7",
        "colab": {
          "base_uri": "https://localhost:8080/",
          "height": 238
        },
        "outputId": "63b3cb1b-208b-4dde-e376-e293c584414b"
      },
      "source": [
        "df.isnull().sum()"
      ],
      "execution_count": null,
      "outputs": [
        {
          "output_type": "execute_result",
          "data": {
            "text/plain": [
              "open                       0\n",
              "close                      0\n",
              "low                        0\n",
              "high                       0\n",
              "volume                     0\n",
              "Security                   0\n",
              "SEC filings                0\n",
              "GICS Sector                0\n",
              "GICS Sub Industry          0\n",
              "Address of Headquarters    0\n",
              "Date first added           0\n",
              "CIK                        0\n",
              "dtype: int64"
            ]
          },
          "metadata": {
            "tags": []
          },
          "execution_count": 40
        }
      ]
    },
    {
      "cell_type": "markdown",
      "metadata": {
        "id": "V7VHfsI0NH8C"
      },
      "source": [
        "There are no missing entries in the data set. "
      ]
    },
    {
      "cell_type": "code",
      "metadata": {
        "id": "-JN86E9bc7A4",
        "colab": {
          "base_uri": "https://localhost:8080/",
          "height": 285
        },
        "outputId": "d301d31b-1155-4eb7-8cf1-85179c5a39e6"
      },
      "source": [
        "plt.scatter(df[\"open\"], df[\"high\"])"
      ],
      "execution_count": null,
      "outputs": [
        {
          "output_type": "execute_result",
          "data": {
            "text/plain": [
              "<matplotlib.collections.PathCollection at 0x7f6970cb00f0>"
            ]
          },
          "metadata": {
            "tags": []
          },
          "execution_count": 72
        },
        {
          "output_type": "display_data",
          "data": {
            "image/png": "[encoded data removed]",
            "text/plain": [
              "<Figure size 432x288 with 1 Axes>"
            ]
          },
          "metadata": {
            "tags": []
          }
        }
      ]
    },
    {
      "cell_type": "markdown",
      "metadata": {
        "id": "roHKOmmJ3GRU"
      },
      "source": [
        "In this graph you can see that there is not a major different between the opening and high stock values. "
      ]
    },
    {
      "cell_type": "markdown",
      "metadata": {
        "id": "pmHVOSWhdIFT"
      },
      "source": [
        ""
      ]
    },
    {
      "cell_type": "code",
      "metadata": {
        "id": "yJ0oY4t4omtg",
        "colab": {
          "base_uri": "https://localhost:8080/",
          "height": 68
        },
        "outputId": "f6761c19-76ea-4016-fa2c-856d6c1659bf"
      },
      "source": [
        "Max_date = df.index.max()\n",
        "print(Max_date)\n",
        "Min_date = df.index.min()\n",
        "print(Min_date)\n",
        "print (Max_date - Min_date)"
      ],
      "execution_count": null,
      "outputs": [
        {
          "output_type": "stream",
          "text": [
            "2016-12-30 00:00:00\n",
            "2010-01-04 00:00:00\n",
            "2552 days 00:00:00\n"
          ],
          "name": "stdout"
        }
      ]
    },
    {
      "cell_type": "markdown",
      "metadata": {
        "id": "p6D27bkJNmBJ"
      },
      "source": [
        "Highest and lowest dates in the entire data set. 2552 days apart from each other. "
      ]
    },
    {
      "cell_type": "code",
      "metadata": {
        "id": "TrboNZzN0zq1",
        "colab": {
          "base_uri": "https://localhost:8080/",
          "height": 272
        },
        "outputId": "006fa577-1d23-41ff-e2ee-be3b1a398646"
      },
      "source": [
        "df2 = df[[\"close\"]]\n",
        "print(df2)"
      ],
      "execution_count": null,
      "outputs": [
        {
          "output_type": "stream",
          "text": [
            "                close\n",
            "date                 \n",
            "2010-01-04  54.230000\n",
            "2010-01-05  53.689999\n",
            "2010-01-06  53.570000\n",
            "2010-01-07  53.599998\n",
            "2010-01-08  53.330002\n",
            "...               ...\n",
            "2016-12-23  69.540001\n",
            "2016-12-27  69.699997\n",
            "2016-12-28  69.309998\n",
            "2016-12-29  69.260002\n",
            "2016-12-30  69.120003\n",
            "\n",
            "[1762 rows x 1 columns]\n"
          ],
          "name": "stdout"
        }
      ]
    },
    {
      "cell_type": "markdown",
      "metadata": {
        "id": "vaepK4N7Ol6d"
      },
      "source": [
        "Creating a new data set that allows us to look at the date and the closing price of the Walmart stock. This data set will be used to predict the stock forecast. "
      ]
    },
    {
      "cell_type": "code",
      "metadata": {
        "id": "J1MhP19g1aiG",
        "colab": {
          "base_uri": "https://localhost:8080/",
          "height": 513
        },
        "outputId": "4340775b-aca8-4376-923d-7679109ef8f3"
      },
      "source": [
        "forecast = int(31) \n",
        "df2['Prediction'] = df2[[\"close\"]].shift(-forecast)\n",
        "print(df.tail())\n",
        "df2['Prediction']"
      ],
      "execution_count": null,
      "outputs": [
        {
          "output_type": "stream",
          "text": [
            "                 open      close  ...  Date first added     CIK\n",
            "date                              ...                          \n",
            "2016-12-23  69.430000  69.540001  ...        1982-08-31  104169\n",
            "2016-12-27  69.300003  69.699997  ...        1982-08-31  104169\n",
            "2016-12-28  69.940002  69.309998  ...        1982-08-31  104169\n",
            "2016-12-29  69.209999  69.260002  ...        1982-08-31  104169\n",
            "2016-12-30  69.120003  69.120003  ...        1982-08-31  104169\n",
            "\n",
            "[5 rows x 12 columns]\n"
          ],
          "name": "stdout"
        },
        {
          "output_type": "stream",
          "text": [
            "/usr/local/lib/python3.6/dist-packages/ipykernel_launcher.py:2: SettingWithCopyWarning: \n",
            "A value is trying to be set on a copy of a slice from a DataFrame.\n",
            "Try using .loc[row_indexer,col_indexer] = value instead\n",
            "\n",
            "See the caveats in the documentation: https://pandas.pydata.org/pandas-docs/stable/user_guide/indexing.html#returning-a-view-versus-a-copy\n",
            "  \n"
          ],
          "name": "stderr"
        },
        {
          "output_type": "execute_result",
          "data": {
            "text/plain": [
              "date\n",
              "2010-01-04    53.470001\n",
              "2010-01-05    53.490002\n",
              "2010-01-06    53.830002\n",
              "2010-01-07    53.619999\n",
              "2010-01-08    53.919998\n",
              "                ...    \n",
              "2016-12-23          NaN\n",
              "2016-12-27          NaN\n",
              "2016-12-28          NaN\n",
              "2016-12-29          NaN\n",
              "2016-12-30          NaN\n",
              "Name: Prediction, Length: 1762, dtype: float64"
            ]
          },
          "metadata": {
            "tags": []
          },
          "execution_count": 43
        }
      ]
    },
    {
      "cell_type": "markdown",
      "metadata": {
        "id": "8x2svWxZQAN9"
      },
      "source": [
        "You can now see that new data frame that will be used to predict the stock. As you can see there are no values for the days we will be predicting starting from 2016-12-23"
      ]
    },
    {
      "cell_type": "code",
      "metadata": {
        "id": "r7c8LZjk0lIm",
        "colab": {
          "base_uri": "https://localhost:8080/",
          "height": 136
        },
        "outputId": "a2e39003-778b-4053-a777-d1a508a031f6"
      },
      "source": [
        "X = np.array(df2.drop([\"Prediction\"], 1))\n",
        "X = preprocessing.scale(X)\n",
        "X_forecast = X[-forecast:]\n",
        "X = X[:-forecast] \n",
        "y = np.array(df2[\"Prediction\"])\n",
        "y = y[:-forecast]\n",
        "\n",
        "X"
      ],
      "execution_count": null,
      "outputs": [
        {
          "output_type": "execute_result",
          "data": {
            "text/plain": [
              "array([[-1.24718367],\n",
              "       [-1.29977263],\n",
              "       [-1.31145895],\n",
              "       ...,\n",
              "       [ 0.40839193],\n",
              "       [ 0.33632522],\n",
              "       [ 0.42689493]])"
            ]
          },
          "metadata": {
            "tags": []
          },
          "execution_count": 44
        }
      ]
    },
    {
      "cell_type": "markdown",
      "metadata": {
        "id": "NNPhtsK63kQj"
      },
      "source": [
        "We are now setting up the x and y values to predict the next 30 days of forecast. The y values will be used to set our prediction values, while the x will create a new array. "
      ]
    },
    {
      "cell_type": "code",
      "metadata": {
        "id": "FmHP6qwN0uXJ"
      },
      "source": [
        "X_train, X_test, y_train, y_test = train_test_split(X, y, test_size = 0.2)"
      ],
      "execution_count": null,
      "outputs": []
    },
    {
      "cell_type": "markdown",
      "metadata": {
        "id": "v_JxSFh42m_F"
      },
      "source": [
        "Using the train test split here will allow us to get a r^2 value that will be used for our linear regression to predicts the forecast for the next 30 days. "
      ]
    },
    {
      "cell_type": "code",
      "metadata": {
        "id": "C5M-vME11CXK",
        "colab": {
          "base_uri": "https://localhost:8080/",
          "height": 34
        },
        "outputId": "9c2dd45f-46d0-479c-e48c-9e5ed256c450"
      },
      "source": [
        "linear = LinearRegression()\n",
        "linear.fit(X_train,y_train)\n",
        "value = linear.score(X_test, y_test)\n",
        "print(\"value: \", value)"
      ],
      "execution_count": null,
      "outputs": [
        {
          "output_type": "stream",
          "text": [
            "value:  0.8813962508936883\n"
          ],
          "name": "stdout"
        }
      ]
    },
    {
      "cell_type": "markdown",
      "metadata": {
        "id": "G6FAUQXXyoJE"
      },
      "source": [
        "This given value will allow us to predict the forecast values for Walmart stock. "
      ]
    },
    {
      "cell_type": "code",
      "metadata": {
        "id": "J15kqqjF4LHr",
        "colab": {
          "base_uri": "https://localhost:8080/",
          "height": 119
        },
        "outputId": "d97a50d9-37b3-43d9-d00e-4ceaccc69c2f"
      },
      "source": [
        "forecast = linear.predict(X_forecast)\n",
        "print(forecast)"
      ],
      "execution_count": null,
      "outputs": [
        {
          "output_type": "stream",
          "text": [
            "[71.30415462 69.27765732 68.67891774 69.44346279 70.13431508 70.788321\n",
            " 71.15677648 71.1199301  71.28573557 70.4198646  70.64093549 70.83437321\n",
            " 69.96850961 70.35538598 70.57645595 70.33695864 70.09746871 71.56207188\n",
            " 71.68182422 71.25809503 71.0186051  70.92649238 71.47917329 71.70024419\n",
            " 71.16598324 69.64610635 69.60005414 69.74743227 69.38819    69.34213687\n",
            " 69.21317869]\n"
          ],
          "name": "stdout"
        }
      ]
    },
    {
      "cell_type": "markdown",
      "metadata": {
        "id": "0OuUcZN9yadH"
      },
      "source": [
        "These are the predicted values forecasted for the next 30 days for the Walmart stock. They fluctuates between 69-71 throughout the 30 days. "
      ]
    },
    {
      "cell_type": "code",
      "metadata": {
        "id": "SXRGZ_KV9aQN",
        "colab": {
          "base_uri": "https://localhost:8080/",
          "height": 544
        },
        "outputId": "aeec8718-d659-4ab3-fd1a-f4324ab4b87a"
      },
      "source": [
        "stocknumbers = pd.DataFrame([69.32703585, 68.72031489, 69.49505156, 70.19511313, 70.85783715, 71.23120426,71.19386671, \n",
        "                             71.36188242, 70.48446912, 70.70848695, 70.90450326, 70.02709742, 70.41913097, 70.64314787, \n",
        "                             70.40045799, 70.15777558, 71.64190238, 71.76325105, 71.33387342, 71.09119101, 70.9978504, \n",
        "                             71.55789872, 71.78191656, 71.24053374, 69.70039642, 69.65373032, 69.80307305, 69.43904197, \n",
        "                             69.39237493, 69.26169771],columns=['30 Day WMT Stock Forecast'])\n",
        "print (stocknumbers)"
      ],
      "execution_count": null,
      "outputs": [
        {
          "output_type": "stream",
          "text": [
            "    30 Day WMT Stock Forecast\n",
            "0                   69.327036\n",
            "1                   68.720315\n",
            "2                   69.495052\n",
            "3                   70.195113\n",
            "4                   70.857837\n",
            "5                   71.231204\n",
            "6                   71.193867\n",
            "7                   71.361882\n",
            "8                   70.484469\n",
            "9                   70.708487\n",
            "10                  70.904503\n",
            "11                  70.027097\n",
            "12                  70.419131\n",
            "13                  70.643148\n",
            "14                  70.400458\n",
            "15                  70.157776\n",
            "16                  71.641902\n",
            "17                  71.763251\n",
            "18                  71.333873\n",
            "19                  71.091191\n",
            "20                  70.997850\n",
            "21                  71.557899\n",
            "22                  71.781917\n",
            "23                  71.240534\n",
            "24                  69.700396\n",
            "25                  69.653730\n",
            "26                  69.803073\n",
            "27                  69.439042\n",
            "28                  69.392375\n",
            "29                  69.261698\n"
          ],
          "name": "stdout"
        }
      ]
    },
    {
      "cell_type": "markdown",
      "metadata": {
        "id": "2dRxVQ4haOoA"
      },
      "source": [
        "Shows all data in a column from day 0 to day 29 of the predicted Walmart stock values"
      ]
    }
  ]
}