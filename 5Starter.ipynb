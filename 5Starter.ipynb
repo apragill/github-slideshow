{
  "nbformat": 4,
  "nbformat_minor": 0,
  "metadata": {
    "colab": {
      "name": " 5Starter.ipynb",
      "provenance": [],
      "collapsed_sections": [],
      "include_colab_link": true
    },
    "kernelspec": {
      "name": "python3",
      "display_name": "Python 3"
    }
  },
  "cells": [
    {
      "cell_type": "markdown",
      "metadata": {
        "id": "view-in-github",
        "colab_type": "text"
      },
      "source": [
        "<a href=\"https://colab.research.google.com/github/apragill/github-slideshow/blob/master/5Starter.ipynb\" target=\"_parent\"><img src=\"https://colab.research.google.com/assets/colab-badge.svg\" alt=\"Open In Colab\"/></a>"
      ]
    },
    {
      "cell_type": "code",
      "metadata": {
        "id": "CKAw5i801vr_"
      },
      "source": [
        "import pandas as pd \n",
        "import numpy as np\n",
        "import matplotlib.pyplot as plt\n",
        "from scipy import stats \n",
        "import statsmodels.api as sm"
      ],
      "execution_count": null,
      "outputs": []
    },
    {
      "cell_type": "code",
      "metadata": {
        "id": "av9uBvma15C4",
        "colab": {
          "base_uri": "https://localhost:8080/",
          "height": 424
        },
        "outputId": "d6b8a41d-30fe-4245-f265-f802257cfc5b"
      },
      "source": [
        "mfr_names = { \"A\": \"American Home Food Products\", \"G\": \"General Mills\", \"K\": \"Kelloggs\",\n",
        "             \"N\": \"Nabisco\", \"P\": \"Post\", \"Q\": \"Quaker Oats\", \"R\": \"Ralston Purina\" }\n",
        "url = \"https://gist.githubusercontent.com/ZeningQu/6184eaf8faa533e320abc938c4738c3e/raw/40f237de825061faa8721c2293b79c46979780b4/cereals.csv\"\n",
        "df = pd.read_csv(url)\n",
        "df[\"mfr\"].replace(mfr_names, inplace=True)\n",
        "df"
      ],
      "execution_count": null,
      "outputs": [
        {
          "output_type": "execute_result",
          "data": {
            "text/html": [
              "<div>\n",
              "<style scoped>\n",
              "    .dataframe tbody tr th:only-of-type {\n",
              "        vertical-align: middle;\n",
              "    }\n",
              "\n",
              "    .dataframe tbody tr th {\n",
              "        vertical-align: top;\n",
              "    }\n",
              "\n",
              "    .dataframe thead th {\n",
              "        text-align: right;\n",
              "    }\n",
              "</style>\n",
              "<table border=\"1\" class=\"dataframe\">\n",
              "  <thead>\n",
              "    <tr style=\"text-align: right;\">\n",
              "      <th></th>\n",
              "      <th>name</th>\n",
              "      <th>mfr</th>\n",
              "      <th>type</th>\n",
              "      <th>calories</th>\n",
              "      <th>protein</th>\n",
              "      <th>fat</th>\n",
              "      <th>sodium</th>\n",
              "      <th>fiber</th>\n",
              "      <th>carbo</th>\n",
              "      <th>sugars</th>\n",
              "      <th>potass</th>\n",
              "      <th>vitamins</th>\n",
              "      <th>shelf</th>\n",
              "      <th>weight</th>\n",
              "      <th>cups</th>\n",
              "      <th>rating</th>\n",
              "    </tr>\n",
              "  </thead>\n",
              "  <tbody>\n",
              "    <tr>\n",
              "      <th>0</th>\n",
              "      <td>100% Bran</td>\n",
              "      <td>Nabisco</td>\n",
              "      <td>C</td>\n",
              "      <td>70</td>\n",
              "      <td>4</td>\n",
              "      <td>1</td>\n",
              "      <td>130</td>\n",
              "      <td>10.0</td>\n",
              "      <td>5.0</td>\n",
              "      <td>6</td>\n",
              "      <td>280</td>\n",
              "      <td>25.0</td>\n",
              "      <td>3</td>\n",
              "      <td>1.0</td>\n",
              "      <td>0.33</td>\n",
              "      <td>68.40</td>\n",
              "    </tr>\n",
              "    <tr>\n",
              "      <th>1</th>\n",
              "      <td>100% Natural Bran</td>\n",
              "      <td>Quaker Oats</td>\n",
              "      <td>C</td>\n",
              "      <td>120</td>\n",
              "      <td>3</td>\n",
              "      <td>5</td>\n",
              "      <td>15</td>\n",
              "      <td>2.0</td>\n",
              "      <td>8.0</td>\n",
              "      <td>8</td>\n",
              "      <td>135</td>\n",
              "      <td>0.0</td>\n",
              "      <td>3</td>\n",
              "      <td>1.0</td>\n",
              "      <td>1.00</td>\n",
              "      <td>33.98</td>\n",
              "    </tr>\n",
              "    <tr>\n",
              "      <th>2</th>\n",
              "      <td>All-Bran</td>\n",
              "      <td>Kelloggs</td>\n",
              "      <td>C</td>\n",
              "      <td>70</td>\n",
              "      <td>4</td>\n",
              "      <td>1</td>\n",
              "      <td>260</td>\n",
              "      <td>9.0</td>\n",
              "      <td>7.0</td>\n",
              "      <td>5</td>\n",
              "      <td>320</td>\n",
              "      <td>25.0</td>\n",
              "      <td>3</td>\n",
              "      <td>1.0</td>\n",
              "      <td>0.33</td>\n",
              "      <td>59.43</td>\n",
              "    </tr>\n",
              "    <tr>\n",
              "      <th>3</th>\n",
              "      <td>All-Bran with Extra Fiber</td>\n",
              "      <td>Kelloggs</td>\n",
              "      <td>C</td>\n",
              "      <td>50</td>\n",
              "      <td>4</td>\n",
              "      <td>0</td>\n",
              "      <td>140</td>\n",
              "      <td>14.0</td>\n",
              "      <td>8.0</td>\n",
              "      <td>0</td>\n",
              "      <td>330</td>\n",
              "      <td>25.0</td>\n",
              "      <td>3</td>\n",
              "      <td>1.0</td>\n",
              "      <td>0.50</td>\n",
              "      <td>93.70</td>\n",
              "    </tr>\n",
              "    <tr>\n",
              "      <th>4</th>\n",
              "      <td>Almond Delight</td>\n",
              "      <td>Ralston Purina</td>\n",
              "      <td>C</td>\n",
              "      <td>110</td>\n",
              "      <td>2</td>\n",
              "      <td>2</td>\n",
              "      <td>200</td>\n",
              "      <td>1.0</td>\n",
              "      <td>14.0</td>\n",
              "      <td>8</td>\n",
              "      <td>-1</td>\n",
              "      <td>25.0</td>\n",
              "      <td>3</td>\n",
              "      <td>1.0</td>\n",
              "      <td>0.75</td>\n",
              "      <td>34.38</td>\n",
              "    </tr>\n",
              "    <tr>\n",
              "      <th>...</th>\n",
              "      <td>...</td>\n",
              "      <td>...</td>\n",
              "      <td>...</td>\n",
              "      <td>...</td>\n",
              "      <td>...</td>\n",
              "      <td>...</td>\n",
              "      <td>...</td>\n",
              "      <td>...</td>\n",
              "      <td>...</td>\n",
              "      <td>...</td>\n",
              "      <td>...</td>\n",
              "      <td>...</td>\n",
              "      <td>...</td>\n",
              "      <td>...</td>\n",
              "      <td>...</td>\n",
              "      <td>...</td>\n",
              "    </tr>\n",
              "    <tr>\n",
              "      <th>72</th>\n",
              "      <td>Triples</td>\n",
              "      <td>General Mills</td>\n",
              "      <td>C</td>\n",
              "      <td>110</td>\n",
              "      <td>2</td>\n",
              "      <td>1</td>\n",
              "      <td>250</td>\n",
              "      <td>0.0</td>\n",
              "      <td>21.0</td>\n",
              "      <td>3</td>\n",
              "      <td>60</td>\n",
              "      <td>25.0</td>\n",
              "      <td>3</td>\n",
              "      <td>1.0</td>\n",
              "      <td>0.75</td>\n",
              "      <td>39.11</td>\n",
              "    </tr>\n",
              "    <tr>\n",
              "      <th>73</th>\n",
              "      <td>Trix</td>\n",
              "      <td>General Mills</td>\n",
              "      <td>C</td>\n",
              "      <td>110</td>\n",
              "      <td>1</td>\n",
              "      <td>1</td>\n",
              "      <td>140</td>\n",
              "      <td>0.0</td>\n",
              "      <td>13.0</td>\n",
              "      <td>12</td>\n",
              "      <td>25</td>\n",
              "      <td>25.0</td>\n",
              "      <td>2</td>\n",
              "      <td>1.0</td>\n",
              "      <td>1.00</td>\n",
              "      <td>27.75</td>\n",
              "    </tr>\n",
              "    <tr>\n",
              "      <th>74</th>\n",
              "      <td>Wheat Chex</td>\n",
              "      <td>Ralston Purina</td>\n",
              "      <td>C</td>\n",
              "      <td>100</td>\n",
              "      <td>3</td>\n",
              "      <td>1</td>\n",
              "      <td>230</td>\n",
              "      <td>3.0</td>\n",
              "      <td>17.0</td>\n",
              "      <td>3</td>\n",
              "      <td>115</td>\n",
              "      <td>25.0</td>\n",
              "      <td>1</td>\n",
              "      <td>1.0</td>\n",
              "      <td>0.67</td>\n",
              "      <td>49.79</td>\n",
              "    </tr>\n",
              "    <tr>\n",
              "      <th>75</th>\n",
              "      <td>Wheaties</td>\n",
              "      <td>General Mills</td>\n",
              "      <td>C</td>\n",
              "      <td>100</td>\n",
              "      <td>3</td>\n",
              "      <td>1</td>\n",
              "      <td>200</td>\n",
              "      <td>3.0</td>\n",
              "      <td>17.0</td>\n",
              "      <td>3</td>\n",
              "      <td>110</td>\n",
              "      <td>25.0</td>\n",
              "      <td>1</td>\n",
              "      <td>1.0</td>\n",
              "      <td>1.00</td>\n",
              "      <td>51.59</td>\n",
              "    </tr>\n",
              "    <tr>\n",
              "      <th>76</th>\n",
              "      <td>Wheaties Honey Gold</td>\n",
              "      <td>General Mills</td>\n",
              "      <td>C</td>\n",
              "      <td>110</td>\n",
              "      <td>2</td>\n",
              "      <td>1</td>\n",
              "      <td>200</td>\n",
              "      <td>1.0</td>\n",
              "      <td>16.0</td>\n",
              "      <td>8</td>\n",
              "      <td>60</td>\n",
              "      <td>25.0</td>\n",
              "      <td>1</td>\n",
              "      <td>1.0</td>\n",
              "      <td>0.75</td>\n",
              "      <td>36.19</td>\n",
              "    </tr>\n",
              "  </tbody>\n",
              "</table>\n",
              "<p>77 rows × 16 columns</p>\n",
              "</div>"
            ],
            "text/plain": [
              "                         name             mfr type  ...  weight  cups  rating\n",
              "0                   100% Bran         Nabisco    C  ...     1.0  0.33   68.40\n",
              "1           100% Natural Bran     Quaker Oats    C  ...     1.0  1.00   33.98\n",
              "2                    All-Bran        Kelloggs    C  ...     1.0  0.33   59.43\n",
              "3   All-Bran with Extra Fiber        Kelloggs    C  ...     1.0  0.50   93.70\n",
              "4              Almond Delight  Ralston Purina    C  ...     1.0  0.75   34.38\n",
              "..                        ...             ...  ...  ...     ...   ...     ...\n",
              "72                    Triples   General Mills    C  ...     1.0  0.75   39.11\n",
              "73                       Trix   General Mills    C  ...     1.0  1.00   27.75\n",
              "74                 Wheat Chex  Ralston Purina    C  ...     1.0  0.67   49.79\n",
              "75                   Wheaties   General Mills    C  ...     1.0  1.00   51.59\n",
              "76        Wheaties Honey Gold   General Mills    C  ...     1.0  0.75   36.19\n",
              "\n",
              "[77 rows x 16 columns]"
            ]
          },
          "metadata": {
            "tags": []
          },
          "execution_count": 4
        }
      ]
    },
    {
      "cell_type": "markdown",
      "metadata": {
        "id": "ZJ43btWKBLbl"
      },
      "source": [
        "**Task 1**\n",
        "\n",
        "What are the lowest and highest rated cereals in the data set. Report these in this form:\n",
        "\n",
        "The highest rated cereal is ___, manufactured by ___. It has a rating of ___.\n",
        "The lowest rated cereal is ___, manufactured by ___. It has a rating of ___."
      ]
    },
    {
      "cell_type": "code",
      "metadata": {
        "id": "vgoCJmKIBR2X",
        "colab": {
          "base_uri": "https://localhost:8080/",
          "height": 130
        },
        "outputId": "3221b177-25df-48ba-9240-c053be3512fe"
      },
      "source": [
        "max_rating = df[\"rating\"].max()\n",
        "print(max_rating)\n",
        "cond = df[\"rating\"] == max_rating\n",
        "name2 = df[cond][\"name\"]\n",
        "manu = df[cond][\"mfr\"]\n",
        "\n",
        "print(\"The highest rated cereal is\", name2 , \"manufactured by\", manu. \"It has a rating of\", max_rating.)"
      ],
      "execution_count": null,
      "outputs": [
        {
          "output_type": "error",
          "ename": "SyntaxError",
          "evalue": "ignored",
          "traceback": [
            "\u001b[0;36m  File \u001b[0;32m\"<ipython-input-5-7e2c08c92ecf>\"\u001b[0;36m, line \u001b[0;32m7\u001b[0m\n\u001b[0;31m    print(\"The highest rated cereal is\", name2 , \"manufactured by\", manu. \"It has a rating of\", max_rating.)\u001b[0m\n\u001b[0m                                                                                             ^\u001b[0m\n\u001b[0;31mSyntaxError\u001b[0m\u001b[0;31m:\u001b[0m invalid syntax\n"
          ]
        }
      ]
    },
    {
      "cell_type": "code",
      "metadata": {
        "id": "bnzURZqRlje8",
        "colab": {
          "base_uri": "https://localhost:8080/",
          "height": 34
        },
        "outputId": "2ce12082-aec5-4f50-f961-4a850a5b59ab"
      },
      "source": [
        "min_rating = df[\"rating\"].min()\n",
        "print(min_rating)\n",
        "condmin = df[\"rating\"] == min_rating\n",
        "name1 = df[condmin][\"name\"]\n",
        "man = df[condmin][\"mfr\"]"
      ],
      "execution_count": null,
      "outputs": [
        {
          "output_type": "stream",
          "text": [
            "18.04\n"
          ],
          "name": "stdout"
        }
      ]
    },
    {
      "cell_type": "markdown",
      "metadata": {
        "id": "OColYCaHqL9N"
      },
      "source": [
        "**Task 2** \n",
        "\n",
        "Display two separate horizontal bar graphs showing:\n",
        "\n",
        "a) The average cereal rating for each manufacturer\n",
        "\n",
        "b) The average grams of sugar for each manufacturer"
      ]
    },
    {
      "cell_type": "code",
      "metadata": {
        "id": "uv3tRvtOqgsM",
        "colab": {
          "base_uri": "https://localhost:8080/",
          "height": 282
        },
        "outputId": "f12fed86-cdd4-4e7d-a26d-3a74e2a10487"
      },
      "source": [
        "df.groupby(\"mfr\")[\"rating\"].mean().plot.barh(label=\"Avg. Rating by Each Manufacturer\", legend=True)\n"
      ],
      "execution_count": null,
      "outputs": [
        {
          "output_type": "execute_result",
          "data": {
            "text/plain": [
              "<matplotlib.axes._subplots.AxesSubplot at 0x7efdafab6198>"
            ]
          },
          "metadata": {
            "tags": []
          },
          "execution_count": 7
        },
        {
          "output_type": "display_data",
          "data": {
            "image/png": "[encoded data removed]",
            "text/plain": [
              "<Figure size 432x288 with 1 Axes>"
            ]
          },
          "metadata": {
            "tags": []
          }
        }
      ]
    },
    {
      "cell_type": "code",
      "metadata": {
        "id": "0CxYwI7W6Qgo",
        "colab": {
          "base_uri": "https://localhost:8080/",
          "height": 282
        },
        "outputId": "78155c26-f6cd-4288-a275-96d499fe88f6"
      },
      "source": [
        "df.groupby(\"mfr\")[\"sugars\"].mean().plot.barh(label=\"Avg. Grams of Sugar by Each Manufacturer\", legend=True)\n"
      ],
      "execution_count": null,
      "outputs": [
        {
          "output_type": "execute_result",
          "data": {
            "text/plain": [
              "<matplotlib.axes._subplots.AxesSubplot at 0x7efdafa4c7b8>"
            ]
          },
          "metadata": {
            "tags": []
          },
          "execution_count": 8
        },
        {
          "output_type": "display_data",
          "data": {
            "image/png": "[encoded data removed]",
            "text/plain": [
              "<Figure size 432x288 with 1 Axes>"
            ]
          },
          "metadata": {
            "tags": []
          }
        }
      ]
    },
    {
      "cell_type": "markdown",
      "metadata": {
        "id": "586UNnyB05pS"
      },
      "source": [
        "**Task 3** Display a histogram showing the overall distribution of ratings in the dataset.\n",
        "\n",
        "Use these options in the command: bins=10, range=(0,100)\n",
        "\n"
      ]
    },
    {
      "cell_type": "code",
      "metadata": {
        "id": "aHCkgAFM1GG0",
        "colab": {
          "base_uri": "https://localhost:8080/",
          "height": 320
        },
        "outputId": "0533d858-3451-49f1-af63-73e211e35180"
      },
      "source": [
        "plt.hist(df[\"rating\"], bins=10,  range=(0,100), edgecolor='k')"
      ],
      "execution_count": null,
      "outputs": [
        {
          "output_type": "execute_result",
          "data": {
            "text/plain": [
              "(array([ 0.,  2., 11., 24., 19., 13.,  5.,  2.,  0.,  1.]),\n",
              " array([  0.,  10.,  20.,  30.,  40.,  50.,  60.,  70.,  80.,  90., 100.]),\n",
              " <a list of 10 Patch objects>)"
            ]
          },
          "metadata": {
            "tags": []
          },
          "execution_count": 9
        },
        {
          "output_type": "display_data",
          "data": {
            "image/png": "[encoded data removed]",
            "text/plain": [
              "<Figure size 432x288 with 1 Axes>"
            ]
          },
          "metadata": {
            "tags": []
          }
        }
      ]
    },
    {
      "cell_type": "markdown",
      "metadata": {
        "id": "fuh4CIO617Me"
      },
      "source": [
        "**Task 4** \n",
        "\n",
        "Determine which 3 properties of the cereals are most correlated to the rating. To do that, this exact series of steps:\n",
        "\n",
        "Select only the \"rating\" column, then apply .corr() and store the result into a separate variable (i.e. not df). Use this variable for each additional step.\n",
        "apply a condition to select all values except 1.0\n",
        "apply the .abs() command to make all the  the correlation values positive\n",
        "use .sort_values() and .head() or .tail() to display the top 3 results\n",
        "Beware: Make sure you find the highest 3 values and not the lowest 3."
      ]
    },
    {
      "cell_type": "code",
      "metadata": {
        "id": "WxepfxMg7Dxa",
        "colab": {
          "base_uri": "https://localhost:8080/",
          "height": 86
        },
        "outputId": "61c42a71-c8e5-4f1b-89eb-1e1fd36fbd61"
      },
      "source": [
        "allco = df.corr()[\"rating\"]\n",
        "cond2 = allco < 1.0\n",
        "# dataset[condition]\n",
        "allco[cond2].abs().sort_values().tail(3)"
      ],
      "execution_count": null,
      "outputs": [
        {
          "output_type": "execute_result",
          "data": {
            "text/plain": [
              "fiber       0.584150\n",
              "calories    0.689396\n",
              "sugars      0.759680\n",
              "Name: rating, dtype: float64"
            ]
          },
          "metadata": {
            "tags": []
          },
          "execution_count": 10
        }
      ]
    },
    {
      "cell_type": "markdown",
      "metadata": {
        "id": "zZjAg5_V7V1I"
      },
      "source": [
        "**Task 5** \n",
        "\n",
        "For each of the three columns determined in Task 4, apply single linear regression with stats.linregress to create a linear model with that column as the independent variable and the rating as the dependent variable. (For this and later tasks you can hard-code the names of the columns.)\n",
        "\n",
        "Note this is NOT multiple regression in this task! Use linear regression 3 times, once with each independent variable.\n",
        "\n",
        "Report the results of each in the following format -- shown with fake data for a pretend column named \"salt\"\n",
        "\n"
      ]
    },
    {
      "cell_type": "code",
      "metadata": {
        "id": "0bZjTyuE7lu_"
      },
      "source": [
        "from scipy import stats"
      ],
      "execution_count": null,
      "outputs": []
    },
    {
      "cell_type": "code",
      "metadata": {
        "id": "gyczgIKk7p4x",
        "colab": {
          "base_uri": "https://localhost:8080/",
          "height": 69
        },
        "outputId": "be875bb2-05e3-492d-fbe8-f7acdd0fe838"
      },
      "source": [
        "reg1 = stats.linregress(df[\"fiber\"], df[\"rating\"])\n",
        "slope, intercept, rval, p, _ = reg1\n",
        "print(\"Model = \", intercept, \"+\", slope, \"* fiber\") \n",
        "print(\"R^2 = \", rval ** 2)\n",
        "print(\"P-value = \", p)\n",
        "\n",
        "\n"
      ],
      "execution_count": null,
      "outputs": [
        {
          "output_type": "stream",
          "text": [
            "Model =  35.25633417103267 + 3.4429225638532603 * fiber\n",
            "R^2 =  0.3412317574808355\n",
            "P-value =  2.4469099273262875e-08\n"
          ],
          "name": "stdout"
        }
      ]
    },
    {
      "cell_type": "code",
      "metadata": {
        "id": "CPO2irOBzck6",
        "colab": {
          "base_uri": "https://localhost:8080/",
          "height": 69
        },
        "outputId": "deb83120-9fe2-4dd3-8f55-fe0f07fc6068"
      },
      "source": [
        "reg2 = stats.linregress(df[\"sugars\"], df[\"rating\"])\n",
        "slope, intercept, rval, p, _ = reg2\n",
        "print(\"Model = \", intercept, \"+\", slope, \"* sugars\") \n",
        "print(\"R^2 = \", rval ** 2)\n",
        "print(\"P-value = \", p)"
      ],
      "execution_count": null,
      "outputs": [
        {
          "output_type": "stream",
          "text": [
            "Model =  59.28412089813005 + -2.4008392291857654 * sugars\n",
            "R^2 =  0.5771138385207082\n",
            "P-value =  1.1525765639596235e-15\n"
          ],
          "name": "stdout"
        }
      ]
    },
    {
      "cell_type": "code",
      "metadata": {
        "id": "ZVx9wLtV04gP",
        "colab": {
          "base_uri": "https://localhost:8080/",
          "height": 69
        },
        "outputId": "3eef8891-a247-4c8d-a6e3-dc10d518196c"
      },
      "source": [
        "reg3 = stats.linregress(df[\"calories\"], df[\"rating\"])\n",
        "slope, intercept, rval, p, _ = reg3\n",
        "print(\"Model = \", intercept, \"+\", slope, \"* calories\") \n",
        "print(\"R^2 = \", rval ** 2)\n",
        "print(\"P-value = \", p)"
      ],
      "execution_count": null,
      "outputs": [
        {
          "output_type": "stream",
          "text": [
            "Model =  95.78921182931222 + -0.4970278628015845 * calories\n",
            "R^2 =  0.4752665137653765\n",
            "P-value =  4.132124752423564e-12\n"
          ],
          "name": "stdout"
        }
      ]
    },
    {
      "cell_type": "markdown",
      "metadata": {
        "id": "Itb31yhP1JB5"
      },
      "source": [
        "\n",
        "**Task 6**\n",
        "\n",
        "For the model in Task 6 with the highest R^2 value ONLY, create a plot that shows these two things together:\n",
        "\n",
        "a) A scatter plot of all (x,y) points where the y value is the rating and the x value is the value of the independent variable\n",
        "\n",
        "b) A straight line, which must be a different color from the points, matching the equation from the model.\n",
        "\n",
        "Hint: You can generate a list of y values for a straight line by \"doing algebra\" directly on a list of x values: y_values = intercept + slope*df[\"...\"]"
      ]
    },
    {
      "cell_type": "code",
      "metadata": {
        "id": "55dqTXFp60X-",
        "colab": {
          "base_uri": "https://localhost:8080/",
          "height": 269
        },
        "outputId": "5d1ed6f1-9261-48fc-dd80-c71dc67ec03a"
      },
      "source": [
        "print(\"Line: \", slope, \"* x +\", intercept)\n",
        "print(\"R^2: \", rval ** 2)\n",
        "print(\"p value: \", pvalue)\n",
        "\n",
        "plt.scatter(df[\"sugars\"], df[\"rating\"])\n",
        "plt.plot(df[\"sugars\"],slope*df[\"sugars\"] + intercept, \"r\")\n",
        "plt.show()\n"
      ],
      "execution_count": null,
      "outputs": [
        {
          "output_type": "stream",
          "text": [
            "Line:  -0.4970278628015845 * x + 95.78921182931222\n",
            "R^2:  0.4752665137653765\n"
          ],
          "name": "stdout"
        },
        {
          "output_type": "error",
          "ename": "NameError",
          "evalue": "ignored",
          "traceback": [
            "\u001b[0;31m---------------------------------------------------------------------------\u001b[0m",
            "\u001b[0;31mNameError\u001b[0m                                 Traceback (most recent call last)",
            "\u001b[0;32m<ipython-input-15-1ef01d558d1a>\u001b[0m in \u001b[0;36m<module>\u001b[0;34m()\u001b[0m\n\u001b[1;32m      1\u001b[0m \u001b[0mprint\u001b[0m\u001b[0;34m(\u001b[0m\u001b[0;34m\"Line: \"\u001b[0m\u001b[0;34m,\u001b[0m \u001b[0mslope\u001b[0m\u001b[0;34m,\u001b[0m \u001b[0;34m\"* x +\"\u001b[0m\u001b[0;34m,\u001b[0m \u001b[0mintercept\u001b[0m\u001b[0;34m)\u001b[0m\u001b[0;34m\u001b[0m\u001b[0;34m\u001b[0m\u001b[0m\n\u001b[1;32m      2\u001b[0m \u001b[0mprint\u001b[0m\u001b[0;34m(\u001b[0m\u001b[0;34m\"R^2: \"\u001b[0m\u001b[0;34m,\u001b[0m \u001b[0mrval\u001b[0m \u001b[0;34m**\u001b[0m \u001b[0;36m2\u001b[0m\u001b[0;34m)\u001b[0m\u001b[0;34m\u001b[0m\u001b[0;34m\u001b[0m\u001b[0m\n\u001b[0;32m----> 3\u001b[0;31m \u001b[0mprint\u001b[0m\u001b[0;34m(\u001b[0m\u001b[0;34m\"p value: \"\u001b[0m\u001b[0;34m,\u001b[0m \u001b[0mpvalue\u001b[0m\u001b[0;34m)\u001b[0m\u001b[0;34m\u001b[0m\u001b[0;34m\u001b[0m\u001b[0m\n\u001b[0m\u001b[1;32m      4\u001b[0m \u001b[0;34m\u001b[0m\u001b[0m\n\u001b[1;32m      5\u001b[0m \u001b[0mplt\u001b[0m\u001b[0;34m.\u001b[0m\u001b[0mscatter\u001b[0m\u001b[0;34m(\u001b[0m\u001b[0mdf\u001b[0m\u001b[0;34m[\u001b[0m\u001b[0;34m\"sugars\"\u001b[0m\u001b[0;34m]\u001b[0m\u001b[0;34m,\u001b[0m \u001b[0mdf\u001b[0m\u001b[0;34m[\u001b[0m\u001b[0;34m\"rating\"\u001b[0m\u001b[0;34m]\u001b[0m\u001b[0;34m)\u001b[0m\u001b[0;34m\u001b[0m\u001b[0;34m\u001b[0m\u001b[0m\n",
            "\u001b[0;31mNameError\u001b[0m: name 'pvalue' is not defined"
          ]
        }
      ]
    },
    {
      "cell_type": "markdown",
      "metadata": {
        "id": "inQNGRG9604S"
      },
      "source": [
        "**Task 7**\n",
        "\n",
        "Use multiple linear regression to create and fit a model that assumes the rating is a linear combination of the 3 variables you determined in Task 5. (Hint: Look at the Day 15 material (Links to an external site.).)\n",
        "\n",
        "Verify that the p-value for the model overall, as well as the p-values for each coefficient, are all < 0.005. If that is not the case, you have selected the wrong 3 independent variables!\n",
        "\n",
        "Report these to things:\n",
        "\n",
        "The adjusted R^2 value for the model. (Do not hard code this. You need to retrieve it with code from the model. Documentation hint here (Links to an external site.).)\n",
        "The equation generated by the model, which should be in this form:\n",
        "rating = __ * variable1 + __ * variable2 + __ * variable3\n",
        "Note some of the +s may actually be minuses, and you need to put the actual variable names in."
      ]
    },
    {
      "cell_type": "code",
      "metadata": {
        "id": "nYznNbvK69Iz",
        "colab": {
          "base_uri": "https://localhost:8080/",
          "height": 720
        },
        "outputId": "0666df17-d59b-4fd8-efb0-c9a0f1667622"
      },
      "source": [
        "model = sm.OLS.from_formula(\"rating ~ calories + sugars + fiber\", df).fit()\n",
        "print(model.summary())\n",
        "\n",
        "print(\"Parameters:\")\n",
        "print(sugars_model.params)\n",
        "\n",
        "\n",
        "intercept, sugars, calories, fiber = sugars_model.params\n",
        "print(\"Rating =\", intercept, \"+\", fiber, \"+ fiber\", sugars, \"+ sugars\", calories, \"+calories\")"
      ],
      "execution_count": null,
      "outputs": [
        {
          "output_type": "stream",
          "text": [
            "                            OLS Regression Results                            \n",
            "==============================================================================\n",
            "Dep. Variable:                 rating   R-squared:                       0.848\n",
            "Model:                            OLS   Adj. R-squared:                  0.842\n",
            "Method:                 Least Squares   F-statistic:                     136.1\n",
            "Date:                Thu, 02 Apr 2020   Prob (F-statistic):           7.97e-30\n",
            "Time:                        18:55:15   Log-Likelihood:                -239.60\n",
            "No. Observations:                  77   AIC:                             487.2\n",
            "Df Residuals:                      73   BIC:                             496.6\n",
            "Df Model:                           3                                         \n",
            "Covariance Type:            nonrobust                                         \n",
            "==============================================================================\n",
            "                 coef    std err          t      P>|t|      [0.025      0.975]\n",
            "------------------------------------------------------------------------------\n",
            "Intercept     68.5318      4.134     16.577      0.000      60.292      76.771\n",
            "calories      -0.1789      0.041     -4.345      0.000      -0.261      -0.097\n",
            "sugars        -1.7669      0.174    -10.140      0.000      -2.114      -1.420\n",
            "fiber          2.5485      0.281      9.066      0.000       1.988       3.109\n",
            "==============================================================================\n",
            "Omnibus:                        2.929   Durbin-Watson:                   1.707\n",
            "Prob(Omnibus):                  0.231   Jarque-Bera (JB):                2.754\n",
            "Skew:                           0.458   Prob(JB):                        0.252\n",
            "Kurtosis:                       2.865   Cond. No.                         708.\n",
            "==============================================================================\n",
            "\n",
            "Warnings:\n",
            "[1] Standard Errors assume that the covariance matrix of the errors is correctly specified.\n",
            "Parameters:\n"
          ],
          "name": "stdout"
        },
        {
          "output_type": "error",
          "ename": "NameError",
          "evalue": "ignored",
          "traceback": [
            "\u001b[0;31m---------------------------------------------------------------------------\u001b[0m",
            "\u001b[0;31mNameError\u001b[0m                                 Traceback (most recent call last)",
            "\u001b[0;32m<ipython-input-16-6e0e440f8fb9>\u001b[0m in \u001b[0;36m<module>\u001b[0;34m()\u001b[0m\n\u001b[1;32m      3\u001b[0m \u001b[0;34m\u001b[0m\u001b[0m\n\u001b[1;32m      4\u001b[0m \u001b[0mprint\u001b[0m\u001b[0;34m(\u001b[0m\u001b[0;34m\"Parameters:\"\u001b[0m\u001b[0;34m)\u001b[0m\u001b[0;34m\u001b[0m\u001b[0;34m\u001b[0m\u001b[0m\n\u001b[0;32m----> 5\u001b[0;31m \u001b[0mprint\u001b[0m\u001b[0;34m(\u001b[0m\u001b[0msugars_model\u001b[0m\u001b[0;34m.\u001b[0m\u001b[0mparams\u001b[0m\u001b[0;34m)\u001b[0m\u001b[0;34m\u001b[0m\u001b[0;34m\u001b[0m\u001b[0m\n\u001b[0m\u001b[1;32m      6\u001b[0m \u001b[0;34m\u001b[0m\u001b[0m\n\u001b[1;32m      7\u001b[0m \u001b[0;34m\u001b[0m\u001b[0m\n",
            "\u001b[0;31mNameError\u001b[0m: name 'sugars_model' is not defined"
          ]
        }
      ]
    }
  ]
}